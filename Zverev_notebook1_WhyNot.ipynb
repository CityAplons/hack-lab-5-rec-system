{
 "cells": [
  {
   "cell_type": "markdown",
   "metadata": {},
   "source": [
    "### SberHackaton\n",
    "### team WhyNot\n",
    "we need to predict the next purchase made by customer\n"
   ]
  },
  {
   "cell_type": "markdown",
   "metadata": {},
   "source": [
    "1. Download the datasets and observe"
   ]
  },
  {
   "cell_type": "code",
   "execution_count": 1,
   "metadata": {},
   "outputs": [],
   "source": [
    "import matplotlib.pyplot as plt\n",
    "import numpy as np\n",
    "import math\n",
    "from numpy.linalg import inv\n",
    "import random\n",
    "import pandas as pd"
   ]
  },
  {
   "cell_type": "markdown",
   "metadata": {},
   "source": [
    "### Let's analyze orders dataset"
   ]
  },
  {
   "cell_type": "code",
   "execution_count": 2,
   "metadata": {},
   "outputs": [
    {
     "data": {
      "text/html": [
       "<div>\n",
       "<style scoped>\n",
       "    .dataframe tbody tr th:only-of-type {\n",
       "        vertical-align: middle;\n",
       "    }\n",
       "\n",
       "    .dataframe tbody tr th {\n",
       "        vertical-align: top;\n",
       "    }\n",
       "\n",
       "    .dataframe thead th {\n",
       "        text-align: right;\n",
       "    }\n",
       "</style>\n",
       "<table border=\"1\" class=\"dataframe\">\n",
       "  <thead>\n",
       "    <tr style=\"text-align: right;\">\n",
       "      <th></th>\n",
       "      <th>user_id</th>\n",
       "      <th>order_id</th>\n",
       "      <th>order_created_time</th>\n",
       "      <th>retailer</th>\n",
       "      <th>store_id</th>\n",
       "      <th>platform</th>\n",
       "    </tr>\n",
       "  </thead>\n",
       "  <tbody>\n",
       "    <tr>\n",
       "      <th>74352</th>\n",
       "      <td>156019</td>\n",
       "      <td>12322555</td>\n",
       "      <td>2020-06-20 13:55:10</td>\n",
       "      <td>Ашан</td>\n",
       "      <td>92</td>\n",
       "      <td>undefined</td>\n",
       "    </tr>\n",
       "    <tr>\n",
       "      <th>1163344</th>\n",
       "      <td>1532891</td>\n",
       "      <td>11633771</td>\n",
       "      <td>2020-06-08 14:49:42</td>\n",
       "      <td>METRO</td>\n",
       "      <td>107</td>\n",
       "      <td>app</td>\n",
       "    </tr>\n",
       "    <tr>\n",
       "      <th>1337301</th>\n",
       "      <td>1672938</td>\n",
       "      <td>6730882</td>\n",
       "      <td>2020-03-03 17:37:56</td>\n",
       "      <td>Лента</td>\n",
       "      <td>145</td>\n",
       "      <td>app</td>\n",
       "    </tr>\n",
       "    <tr>\n",
       "      <th>504038</th>\n",
       "      <td>861453</td>\n",
       "      <td>9824324</td>\n",
       "      <td>2020-05-10 10:43:25</td>\n",
       "      <td>Лента</td>\n",
       "      <td>218</td>\n",
       "      <td>app</td>\n",
       "    </tr>\n",
       "    <tr>\n",
       "      <th>1838704</th>\n",
       "      <td>2100280</td>\n",
       "      <td>14819920</td>\n",
       "      <td>2020-08-10 22:03:09</td>\n",
       "      <td>Лента</td>\n",
       "      <td>130</td>\n",
       "      <td>app</td>\n",
       "    </tr>\n",
       "  </tbody>\n",
       "</table>\n",
       "</div>"
      ],
      "text/plain": [
       "         user_id  order_id   order_created_time retailer  store_id   platform\n",
       "74352     156019  12322555  2020-06-20 13:55:10     Ашан        92  undefined\n",
       "1163344  1532891  11633771  2020-06-08 14:49:42    METRO       107        app\n",
       "1337301  1672938   6730882  2020-03-03 17:37:56    Лента       145        app\n",
       "504038    861453   9824324  2020-05-10 10:43:25    Лента       218        app\n",
       "1838704  2100280  14819920  2020-08-10 22:03:09    Лента       130        app"
      ]
     },
     "execution_count": 2,
     "metadata": {},
     "output_type": "execute_result"
    }
   ],
   "source": [
    "\n",
    "orders = pd.read_csv(r'C:/Users/zvere/Sber/test-recsys/kaggle_tab_1345/tab_1_orders.csv')\n",
    "city= pd.read_csv(r'C:/Users/zvere/Sber/test-recsys/tab_6_city.csv')\n",
    "\n",
    "orders.sample(5)"
   ]
  },
  {
   "cell_type": "code",
   "execution_count": 3,
   "metadata": {},
   "outputs": [
    {
     "data": {
      "text/html": [
       "<div>\n",
       "<style scoped>\n",
       "    .dataframe tbody tr th:only-of-type {\n",
       "        vertical-align: middle;\n",
       "    }\n",
       "\n",
       "    .dataframe tbody tr th {\n",
       "        vertical-align: top;\n",
       "    }\n",
       "\n",
       "    .dataframe thead th {\n",
       "        text-align: right;\n",
       "    }\n",
       "</style>\n",
       "<table border=\"1\" class=\"dataframe\">\n",
       "  <thead>\n",
       "    <tr style=\"text-align: right;\">\n",
       "      <th></th>\n",
       "      <th>store_id</th>\n",
       "      <th>city_name</th>\n",
       "    </tr>\n",
       "  </thead>\n",
       "  <tbody>\n",
       "    <tr>\n",
       "      <th>59</th>\n",
       "      <td>117</td>\n",
       "      <td>Новосибирск</td>\n",
       "    </tr>\n",
       "    <tr>\n",
       "      <th>632</th>\n",
       "      <td>504</td>\n",
       "      <td>Москва</td>\n",
       "    </tr>\n",
       "    <tr>\n",
       "      <th>469</th>\n",
       "      <td>804</td>\n",
       "      <td>Екатеринбург</td>\n",
       "    </tr>\n",
       "    <tr>\n",
       "      <th>402</th>\n",
       "      <td>413</td>\n",
       "      <td>Ростов-на-Дону</td>\n",
       "    </tr>\n",
       "    <tr>\n",
       "      <th>452</th>\n",
       "      <td>707</td>\n",
       "      <td>Челябинск</td>\n",
       "    </tr>\n",
       "  </tbody>\n",
       "</table>\n",
       "</div>"
      ],
      "text/plain": [
       "     store_id       city_name\n",
       "59        117     Новосибирск\n",
       "632       504          Москва\n",
       "469       804    Екатеринбург\n",
       "402       413  Ростов-на-Дону\n",
       "452       707       Челябинск"
      ]
     },
     "execution_count": 3,
     "metadata": {},
     "output_type": "execute_result"
    }
   ],
   "source": [
    "city.sample(5)"
   ]
  },
  {
   "cell_type": "code",
   "execution_count": 4,
   "metadata": {},
   "outputs": [
    {
     "data": {
      "text/plain": [
       "(788, 2)"
      ]
     },
     "execution_count": 4,
     "metadata": {},
     "output_type": "execute_result"
    }
   ],
   "source": [
    "city.shape"
   ]
  },
  {
   "cell_type": "code",
   "execution_count": 5,
   "metadata": {},
   "outputs": [
    {
     "data": {
      "text/plain": [
       "(2461958, 6)"
      ]
     },
     "execution_count": 5,
     "metadata": {},
     "output_type": "execute_result"
    }
   ],
   "source": [
    "orders.shape"
   ]
  },
  {
   "cell_type": "code",
   "execution_count": null,
   "metadata": {},
   "outputs": [],
   "source": []
  },
  {
   "cell_type": "code",
   "execution_count": 6,
   "metadata": {},
   "outputs": [
    {
     "data": {
      "text/html": [
       "<div>\n",
       "<style scoped>\n",
       "    .dataframe tbody tr th:only-of-type {\n",
       "        vertical-align: middle;\n",
       "    }\n",
       "\n",
       "    .dataframe tbody tr th {\n",
       "        vertical-align: top;\n",
       "    }\n",
       "\n",
       "    .dataframe thead th {\n",
       "        text-align: right;\n",
       "    }\n",
       "</style>\n",
       "<table border=\"1\" class=\"dataframe\">\n",
       "  <thead>\n",
       "    <tr style=\"text-align: right;\">\n",
       "      <th></th>\n",
       "      <th>user_id</th>\n",
       "      <th>order_id</th>\n",
       "      <th>order_created_time</th>\n",
       "      <th>retailer</th>\n",
       "      <th>store_id</th>\n",
       "      <th>platform</th>\n",
       "      <th>city_name</th>\n",
       "    </tr>\n",
       "  </thead>\n",
       "  <tbody>\n",
       "    <tr>\n",
       "      <th>701180</th>\n",
       "      <td>1963978</td>\n",
       "      <td>11917987</td>\n",
       "      <td>2020-06-13 15:13:16</td>\n",
       "      <td>METRO</td>\n",
       "      <td>93</td>\n",
       "      <td>app</td>\n",
       "      <td>Московская Область</td>\n",
       "    </tr>\n",
       "    <tr>\n",
       "      <th>2456195</th>\n",
       "      <td>3147314</td>\n",
       "      <td>15377980</td>\n",
       "      <td>2020-08-21 15:37:21</td>\n",
       "      <td>Лента</td>\n",
       "      <td>405</td>\n",
       "      <td>app</td>\n",
       "      <td>Майкоп</td>\n",
       "    </tr>\n",
       "    <tr>\n",
       "      <th>2273282</th>\n",
       "      <td>1847074</td>\n",
       "      <td>12163663</td>\n",
       "      <td>2020-06-17 15:27:47</td>\n",
       "      <td>Ашан</td>\n",
       "      <td>251</td>\n",
       "      <td>app</td>\n",
       "      <td>Краснодар</td>\n",
       "    </tr>\n",
       "  </tbody>\n",
       "</table>\n",
       "</div>"
      ],
      "text/plain": [
       "         user_id  order_id   order_created_time retailer  store_id platform  \\\n",
       "701180   1963978  11917987  2020-06-13 15:13:16    METRO        93      app   \n",
       "2456195  3147314  15377980  2020-08-21 15:37:21    Лента       405      app   \n",
       "2273282  1847074  12163663  2020-06-17 15:27:47     Ашан       251      app   \n",
       "\n",
       "                  city_name  \n",
       "701180   Московская Область  \n",
       "2456195              Майкоп  \n",
       "2273282           Краснодар  "
      ]
     },
     "execution_count": 6,
     "metadata": {},
     "output_type": "execute_result"
    }
   ],
   "source": [
    "orders_c = pd.merge(orders,city,on = 'store_id')\n",
    "orders_c.sample(3)"
   ]
  },
  {
   "cell_type": "markdown",
   "metadata": {},
   "source": [
    "### here we can see different retailers in different cities, so if a person from Абакан there is only point to predict that he wil buy something in \"Аллея\""
   ]
  },
  {
   "cell_type": "code",
   "execution_count": 7,
   "metadata": {},
   "outputs": [
    {
     "data": {
      "text/plain": [
       "city_name           retailer            \n",
       " Каменск-Уральский  Лента                     49\n",
       "Абакан              Аллея                    668\n",
       "Альметьевск         Лента                   1904\n",
       "Анадырь             ТЦ \"Новомариинский\"       46\n",
       "Архангельск         METRO                   1962\n",
       "                                            ... \n",
       "Якутск              УДАЧНАЯ ПОКУПКА          235\n",
       "                    МаксМаркет               231\n",
       "Ярославль           METRO                   9515\n",
       "                    Лента                   7717\n",
       "                    Ашан                    5305\n",
       "Name: retailer, Length: 246, dtype: int64"
      ]
     },
     "execution_count": 7,
     "metadata": {},
     "output_type": "execute_result"
    }
   ],
   "source": [
    "city_ratailers = orders_c.groupby(['city_name'])['retailer'].value_counts()\n",
    "city_ratailers"
   ]
  },
  {
   "cell_type": "code",
   "execution_count": 8,
   "metadata": {},
   "outputs": [
    {
     "name": "stdout",
     "output_type": "stream",
     "text": [
      "number of users in the dataset :  753572\n"
     ]
    }
   ],
   "source": [
    "#let's calculate some additional info\n",
    "print('number of users in the dataset : ' ,orders_c.user_id.nunique()) "
   ]
  },
  {
   "cell_type": "markdown",
   "metadata": {},
   "source": [
    "### **we can see that number of users are less than number of purshases in the dataset so some customers made more than 1 purchase** \n",
    "\n",
    "### **let's find users who made more purchases than others**"
   ]
  },
  {
   "cell_type": "code",
   "execution_count": 9,
   "metadata": {},
   "outputs": [
    {
     "data": {
      "text/plain": [
       "user_id\n",
       "72         1\n",
       "83         1\n",
       "142        1\n",
       "187        1\n",
       "224        1\n",
       "          ..\n",
       "3432957    1\n",
       "3432966    1\n",
       "3432977    1\n",
       "3433000    1\n",
       "3433023    1\n",
       "Name: order_id, Length: 753572, dtype: int64"
      ]
     },
     "execution_count": 9,
     "metadata": {},
     "output_type": "execute_result"
    }
   ],
   "source": [
    "orders_per_customers = orders_c.groupby(['user_id'])['order_id'].count()\n",
    "orders_per_customers"
   ]
  },
  {
   "cell_type": "code",
   "execution_count": 10,
   "metadata": {},
   "outputs": [
    {
     "data": {
      "text/plain": [
       "user_id\n",
       "260         2\n",
       "353         8\n",
       "400         6\n",
       "525         3\n",
       "576        10\n",
       "           ..\n",
       "3424582     2\n",
       "3427265     2\n",
       "3427304     2\n",
       "3432418     2\n",
       "3432861     2\n",
       "Name: order_id, Length: 355359, dtype: int64"
      ]
     },
     "execution_count": 10,
     "metadata": {},
     "output_type": "execute_result"
    }
   ],
   "source": [
    "orders_per_customers[orders_per_customers > 1]\n",
    "#there are a lot of people whp made more than one purshase"
   ]
  },
  {
   "cell_type": "code",
   "execution_count": 11,
   "metadata": {},
   "outputs": [
    {
     "data": {
      "text/plain": [
       "user_id\n",
       "766        25\n",
       "1578       27\n",
       "1724       25\n",
       "2268       30\n",
       "2693       18\n",
       "           ..\n",
       "2987260    26\n",
       "3000696    19\n",
       "3010057    23\n",
       "3058685    52\n",
       "3116617    16\n",
       "Name: order_id, Length: 24406, dtype: int64"
      ]
     },
     "execution_count": 11,
     "metadata": {},
     "output_type": "execute_result"
    }
   ],
   "source": [
    "orders_per_customers[orders_per_customers > 15] \n",
    "#here we have people who made a lot of purshases"
   ]
  },
  {
   "cell_type": "markdown",
   "metadata": {},
   "source": [
    "Let't find out who are making more purchases than others"
   ]
  },
  {
   "cell_type": "code",
   "execution_count": 12,
   "metadata": {},
   "outputs": [
    {
     "data": {
      "text/plain": [
       "user_id\n",
       "144291     106\n",
       "224747     196\n",
       "268890     101\n",
       "300421     185\n",
       "344968     205\n",
       "351997     144\n",
       "450083     115\n",
       "507109     101\n",
       "620405     143\n",
       "863370     107\n",
       "888699     102\n",
       "913694     133\n",
       "958080     152\n",
       "1028618    105\n",
       "1093518    140\n",
       "1167872    110\n",
       "1225517    106\n",
       "1478258    113\n",
       "1533234    107\n",
       "2253724    108\n",
       "2325790    102\n",
       "Name: order_id, dtype: int64"
      ]
     },
     "execution_count": 12,
     "metadata": {},
     "output_type": "execute_result"
    }
   ],
   "source": [
    "orders_per_customers[orders_per_customers > 100] #there is a list of people who made more purhases that others"
   ]
  },
  {
   "cell_type": "code",
   "execution_count": 13,
   "metadata": {},
   "outputs": [
    {
     "data": {
      "text/plain": [
       "user_id\n",
       "344968    205\n",
       "Name: order_id, dtype: int64"
      ]
     },
     "execution_count": 13,
     "metadata": {},
     "output_type": "execute_result"
    }
   ],
   "source": [
    "orders_per_customers[orders_per_customers == orders_per_customers.max()]  #there is a record"
   ]
  },
  {
   "cell_type": "code",
   "execution_count": 14,
   "metadata": {},
   "outputs": [
    {
     "name": "stdout",
     "output_type": "stream",
     "text": [
      "number of retailers is :  61\n"
     ]
    }
   ],
   "source": [
    "print('number of retailers is : ',orders_c.retailer.nunique())"
   ]
  },
  {
   "cell_type": "markdown",
   "metadata": {},
   "source": [
    "We can analyze how people bahave in different retailers"
   ]
  },
  {
   "cell_type": "code",
   "execution_count": 15,
   "metadata": {},
   "outputs": [
    {
     "data": {
      "text/plain": [
       "retailer\n",
       "220 ВОЛЬТ             33\n",
       "BILLA               2735\n",
       "Gipfel                11\n",
       "Home Market           17\n",
       "METRO            1369726\n",
       "                  ...   \n",
       "Улыбка Радуги        122\n",
       "Фреш25               132\n",
       "Хороший              546\n",
       "Шан                   59\n",
       "ЮгОпт                 14\n",
       "Name: order_id, Length: 61, dtype: int64"
      ]
     },
     "execution_count": 15,
     "metadata": {},
     "output_type": "execute_result"
    }
   ],
   "source": [
    "retailer_total = orders_c.groupby(['retailer'])['order_id'].count()\n",
    "#here we have number of purshases in different retailers\n",
    "retailer_total"
   ]
  },
  {
   "cell_type": "markdown",
   "metadata": {},
   "source": [
    "Let's find 3 most popular retailers for customers"
   ]
  },
  {
   "cell_type": "code",
   "execution_count": 16,
   "metadata": {},
   "outputs": [
    {
     "data": {
      "text/plain": [
       "retailer\n",
       "METRO    1369726\n",
       "Name: order_id, dtype: int64"
      ]
     },
     "execution_count": 16,
     "metadata": {},
     "output_type": "execute_result"
    }
   ],
   "source": [
    "retailer_total[retailer_total == retailer_total.max()] "
   ]
  },
  {
   "cell_type": "markdown",
   "metadata": {},
   "source": [
    "So top 1 retailer is METRO"
   ]
  },
  {
   "cell_type": "code",
   "execution_count": 17,
   "metadata": {},
   "outputs": [
    {
     "data": {
      "text/plain": [
       "retailer\n",
       "METRO    1369726\n",
       "Ашан      401004\n",
       "Лента     653387\n",
       "Name: order_id, dtype: int64"
      ]
     },
     "execution_count": 17,
     "metadata": {},
     "output_type": "execute_result"
    }
   ],
   "source": [
    "retailer_total[retailer_total > 100000 ] "
   ]
  },
  {
   "cell_type": "markdown",
   "metadata": {},
   "source": [
    "TOP 3 retailers are : Metro, Ашан, Лента \n",
    "\n",
    "bacically product markets are more popular than any other retailers"
   ]
  },
  {
   "cell_type": "code",
   "execution_count": 18,
   "metadata": {},
   "outputs": [
    {
     "name": "stdout",
     "output_type": "stream",
     "text": [
      "number of platforms is :  3\n"
     ]
    }
   ],
   "source": [
    "print('number of platforms is : ',orders_c.platform.nunique())"
   ]
  },
  {
   "cell_type": "markdown",
   "metadata": {},
   "source": [
    "### **We have only 3 platforms so we can analyze how many customers made their purchases there**"
   ]
  },
  {
   "cell_type": "code",
   "execution_count": 19,
   "metadata": {},
   "outputs": [
    {
     "data": {
      "text/plain": [
       "platform\n",
       "app          1872404\n",
       "undefined      76536\n",
       "web           513018\n",
       "Name: user_id, dtype: int64"
      ]
     },
     "execution_count": 19,
     "metadata": {},
     "output_type": "execute_result"
    }
   ],
   "source": [
    "orders_c.groupby(['platform'])['user_id'].count()"
   ]
  },
  {
   "cell_type": "markdown",
   "metadata": {},
   "source": []
  },
  {
   "cell_type": "markdown",
   "metadata": {},
   "source": [
    "### **We can clearly see that purhases in the app are more preferable than purchases in web, also there is 76536 rows with underfined platform **"
   ]
  },
  {
   "cell_type": "markdown",
   "metadata": {},
   "source": [
    "//------------------------------------------------------------------------------------------------------------------------//"
   ]
  },
  {
   "cell_type": "markdown",
   "metadata": {},
   "source": [
    "### Let's analyze products dataset"
   ]
  },
  {
   "cell_type": "code",
   "execution_count": 20,
   "metadata": {},
   "outputs": [
    {
     "data": {
      "text/html": [
       "<div>\n",
       "<style scoped>\n",
       "    .dataframe tbody tr th:only-of-type {\n",
       "        vertical-align: middle;\n",
       "    }\n",
       "\n",
       "    .dataframe tbody tr th {\n",
       "        vertical-align: top;\n",
       "    }\n",
       "\n",
       "    .dataframe thead th {\n",
       "        text-align: right;\n",
       "    }\n",
       "</style>\n",
       "<table border=\"1\" class=\"dataframe\">\n",
       "  <thead>\n",
       "    <tr style=\"text-align: right;\">\n",
       "      <th></th>\n",
       "      <th>user_id</th>\n",
       "      <th>order_id</th>\n",
       "      <th>line_item_id</th>\n",
       "      <th>price</th>\n",
       "      <th>quantity</th>\n",
       "      <th>discount</th>\n",
       "      <th>product_name</th>\n",
       "      <th>product_id</th>\n",
       "      <th>brand_name</th>\n",
       "      <th>master_category_id</th>\n",
       "      <th>parent_category_id</th>\n",
       "    </tr>\n",
       "  </thead>\n",
       "  <tbody>\n",
       "    <tr>\n",
       "      <th>129581</th>\n",
       "      <td>316696</td>\n",
       "      <td>5574989</td>\n",
       "      <td>29221821</td>\n",
       "      <td>152.190002</td>\n",
       "      <td>1</td>\n",
       "      <td>0.000000</td>\n",
       "      <td>Крыло цыпленка-бройлера Петруха замороженное ~...</td>\n",
       "      <td>4593001</td>\n",
       "      <td>Петруха</td>\n",
       "      <td>122.0</td>\n",
       "      <td>119</td>\n",
       "    </tr>\n",
       "    <tr>\n",
       "      <th>180527</th>\n",
       "      <td>427950</td>\n",
       "      <td>5326601</td>\n",
       "      <td>28813007</td>\n",
       "      <td>88.989998</td>\n",
       "      <td>1</td>\n",
       "      <td>40.009998</td>\n",
       "      <td>Маслины Iberica крупные без косточки</td>\n",
       "      <td>2005</td>\n",
       "      <td>Iberica</td>\n",
       "      <td>626.0</td>\n",
       "      <td>67</td>\n",
       "    </tr>\n",
       "    <tr>\n",
       "      <th>173166</th>\n",
       "      <td>396816</td>\n",
       "      <td>5482320</td>\n",
       "      <td>28347679</td>\n",
       "      <td>71.889999</td>\n",
       "      <td>1</td>\n",
       "      <td>0.000000</td>\n",
       "      <td>Ежевика Fine Life быстрозамороженная</td>\n",
       "      <td>37277</td>\n",
       "      <td>Fine Life</td>\n",
       "      <td>592.0</td>\n",
       "      <td>90</td>\n",
       "    </tr>\n",
       "    <tr>\n",
       "      <th>241184</th>\n",
       "      <td>693530</td>\n",
       "      <td>5535585</td>\n",
       "      <td>28362949</td>\n",
       "      <td>87.190002</td>\n",
       "      <td>1</td>\n",
       "      <td>0.000000</td>\n",
       "      <td>Фасоль Мистраль белая 450 г</td>\n",
       "      <td>198863</td>\n",
       "      <td>Мистраль</td>\n",
       "      <td>580.0</td>\n",
       "      <td>9</td>\n",
       "    </tr>\n",
       "    <tr>\n",
       "      <th>99154</th>\n",
       "      <td>265401</td>\n",
       "      <td>5560407</td>\n",
       "      <td>29021435</td>\n",
       "      <td>136.889999</td>\n",
       "      <td>1</td>\n",
       "      <td>0.000000</td>\n",
       "      <td>Желудки куриные замороженные</td>\n",
       "      <td>8028507</td>\n",
       "      <td>Без бренда</td>\n",
       "      <td>125.0</td>\n",
       "      <td>119</td>\n",
       "    </tr>\n",
       "  </tbody>\n",
       "</table>\n",
       "</div>"
      ],
      "text/plain": [
       "        user_id  order_id  line_item_id       price  quantity   discount  \\\n",
       "129581   316696   5574989      29221821  152.190002         1   0.000000   \n",
       "180527   427950   5326601      28813007   88.989998         1  40.009998   \n",
       "173166   396816   5482320      28347679   71.889999         1   0.000000   \n",
       "241184   693530   5535585      28362949   87.190002         1   0.000000   \n",
       "99154    265401   5560407      29021435  136.889999         1   0.000000   \n",
       "\n",
       "                                             product_name  product_id  \\\n",
       "129581  Крыло цыпленка-бройлера Петруха замороженное ~...     4593001   \n",
       "180527               Маслины Iberica крупные без косточки        2005   \n",
       "173166               Ежевика Fine Life быстрозамороженная       37277   \n",
       "241184                        Фасоль Мистраль белая 450 г      198863   \n",
       "99154                        Желудки куриные замороженные     8028507   \n",
       "\n",
       "        brand_name  master_category_id  parent_category_id  \n",
       "129581     Петруха               122.0                 119  \n",
       "180527     Iberica               626.0                  67  \n",
       "173166   Fine Life               592.0                  90  \n",
       "241184    Мистраль               580.0                   9  \n",
       "99154   Без бренда               125.0                 119  "
      ]
     },
     "execution_count": 20,
     "metadata": {},
     "output_type": "execute_result"
    }
   ],
   "source": [
    "products = pd.read_csv(r'C:/Users/zvere/Sber/test-recsys/sbermarket_tab_2_1/tab_2_products_2020-01-01.csv')\n",
    "products.sample(5)"
   ]
  },
  {
   "cell_type": "markdown",
   "metadata": {},
   "source": [
    "### **there are some outliers in discount column (negative values) let's filter outliers (negative discount will be equal to zero)**"
   ]
  },
  {
   "cell_type": "code",
   "execution_count": 21,
   "metadata": {},
   "outputs": [
    {
     "name": "stderr",
     "output_type": "stream",
     "text": [
      "C:\\Users\\zvere\\anaconda3\\lib\\site-packages\\pandas\\core\\generic.py:5159: SettingWithCopyWarning: \n",
      "A value is trying to be set on a copy of a slice from a DataFrame.\n",
      "Try using .loc[row_indexer,col_indexer] = value instead\n",
      "\n",
      "See the caveats in the documentation: https://pandas.pydata.org/pandas-docs/stable/user_guide/indexing.html#returning-a-view-versus-a-copy\n",
      "  self[name] = value\n"
     ]
    }
   ],
   "source": [
    "# products['discount_real'] = (products.discount >= 0)\n",
    "\n",
    "# products[products.discount_real == False].discount == 0\n",
    "products[ (products.discount < 0)].discount = 0\n"
   ]
  },
  {
   "cell_type": "code",
   "execution_count": 22,
   "metadata": {},
   "outputs": [
    {
     "data": {
      "text/html": [
       "<div>\n",
       "<style scoped>\n",
       "    .dataframe tbody tr th:only-of-type {\n",
       "        vertical-align: middle;\n",
       "    }\n",
       "\n",
       "    .dataframe tbody tr th {\n",
       "        vertical-align: top;\n",
       "    }\n",
       "\n",
       "    .dataframe thead th {\n",
       "        text-align: right;\n",
       "    }\n",
       "</style>\n",
       "<table border=\"1\" class=\"dataframe\">\n",
       "  <thead>\n",
       "    <tr style=\"text-align: right;\">\n",
       "      <th></th>\n",
       "      <th>user_id</th>\n",
       "      <th>order_id</th>\n",
       "      <th>line_item_id</th>\n",
       "      <th>price</th>\n",
       "      <th>quantity</th>\n",
       "      <th>discount</th>\n",
       "      <th>product_name</th>\n",
       "      <th>product_id</th>\n",
       "      <th>brand_name</th>\n",
       "      <th>master_category_id</th>\n",
       "      <th>parent_category_id</th>\n",
       "    </tr>\n",
       "  </thead>\n",
       "  <tbody>\n",
       "    <tr>\n",
       "      <th>0</th>\n",
       "      <td>525</td>\n",
       "      <td>5354800</td>\n",
       "      <td>28381452</td>\n",
       "      <td>116.000000</td>\n",
       "      <td>4</td>\n",
       "      <td>0.000000</td>\n",
       "      <td>Лазанья Золотой Петушок мясной слоеный пирог з...</td>\n",
       "      <td>37548</td>\n",
       "      <td>Золотой Петушок</td>\n",
       "      <td>101.0</td>\n",
       "      <td>99</td>\n",
       "    </tr>\n",
       "    <tr>\n",
       "      <th>1</th>\n",
       "      <td>525</td>\n",
       "      <td>5354800</td>\n",
       "      <td>29242911</td>\n",
       "      <td>56.990002</td>\n",
       "      <td>2</td>\n",
       "      <td>13.080000</td>\n",
       "      <td>Хлеб Хлебный Дом Геркулес зерновой с отрубями ...</td>\n",
       "      <td>5636</td>\n",
       "      <td>Хлебный Дом</td>\n",
       "      <td>596.0</td>\n",
       "      <td>51</td>\n",
       "    </tr>\n",
       "    <tr>\n",
       "      <th>2</th>\n",
       "      <td>525</td>\n",
       "      <td>5354800</td>\n",
       "      <td>29242919</td>\n",
       "      <td>64.989998</td>\n",
       "      <td>2</td>\n",
       "      <td>40.020000</td>\n",
       "      <td>Тортилья Delicados оригинальная пшеничная</td>\n",
       "      <td>22107</td>\n",
       "      <td>Delicados</td>\n",
       "      <td>596.0</td>\n",
       "      <td>51</td>\n",
       "    </tr>\n",
       "    <tr>\n",
       "      <th>3</th>\n",
       "      <td>525</td>\n",
       "      <td>5354800</td>\n",
       "      <td>29243785</td>\n",
       "      <td>44.990002</td>\n",
       "      <td>6</td>\n",
       "      <td>0.000000</td>\n",
       "      <td>Вода питьевая минеральная BonAqua газированная...</td>\n",
       "      <td>2530</td>\n",
       "      <td>BonAqua</td>\n",
       "      <td>77.0</td>\n",
       "      <td>74</td>\n",
       "    </tr>\n",
       "    <tr>\n",
       "      <th>4</th>\n",
       "      <td>525</td>\n",
       "      <td>5354800</td>\n",
       "      <td>29244246</td>\n",
       "      <td>65.900002</td>\n",
       "      <td>6</td>\n",
       "      <td>30.990000</td>\n",
       "      <td>Газированный напиток Mirinda Апельсин 1,5 л</td>\n",
       "      <td>3818486</td>\n",
       "      <td>Mirinda</td>\n",
       "      <td>76.0</td>\n",
       "      <td>74</td>\n",
       "    </tr>\n",
       "    <tr>\n",
       "      <th>...</th>\n",
       "      <td>...</td>\n",
       "      <td>...</td>\n",
       "      <td>...</td>\n",
       "      <td>...</td>\n",
       "      <td>...</td>\n",
       "      <td>...</td>\n",
       "      <td>...</td>\n",
       "      <td>...</td>\n",
       "      <td>...</td>\n",
       "      <td>...</td>\n",
       "      <td>...</td>\n",
       "    </tr>\n",
       "    <tr>\n",
       "      <th>303662</th>\n",
       "      <td>725964</td>\n",
       "      <td>5652846</td>\n",
       "      <td>29327078</td>\n",
       "      <td>52.639999</td>\n",
       "      <td>2</td>\n",
       "      <td>23.780001</td>\n",
       "      <td>Черная смородина Fine life быстрозамороженная</td>\n",
       "      <td>94654</td>\n",
       "      <td>Fine Life</td>\n",
       "      <td>592.0</td>\n",
       "      <td>90</td>\n",
       "    </tr>\n",
       "    <tr>\n",
       "      <th>303663</th>\n",
       "      <td>725964</td>\n",
       "      <td>5652846</td>\n",
       "      <td>29327108</td>\n",
       "      <td>29.459999</td>\n",
       "      <td>1</td>\n",
       "      <td>39.400002</td>\n",
       "      <td>Помидоры черри красные 250 г</td>\n",
       "      <td>687</td>\n",
       "      <td>Без бренда</td>\n",
       "      <td>85.0</td>\n",
       "      <td>84</td>\n",
       "    </tr>\n",
       "    <tr>\n",
       "      <th>303664</th>\n",
       "      <td>725964</td>\n",
       "      <td>5652846</td>\n",
       "      <td>29327109</td>\n",
       "      <td>29.480000</td>\n",
       "      <td>1</td>\n",
       "      <td>29.580000</td>\n",
       "      <td>Помидоры черри сливовидные 250 г</td>\n",
       "      <td>4830888</td>\n",
       "      <td>Без бренда</td>\n",
       "      <td>85.0</td>\n",
       "      <td>84</td>\n",
       "    </tr>\n",
       "    <tr>\n",
       "      <th>303665</th>\n",
       "      <td>725964</td>\n",
       "      <td>5652846</td>\n",
       "      <td>29327192</td>\n",
       "      <td>83.220001</td>\n",
       "      <td>1</td>\n",
       "      <td>21.209999</td>\n",
       "      <td>Сыр Bonfesto Моцарелла mini 45% 100 г бзмж</td>\n",
       "      <td>26739</td>\n",
       "      <td>Bonfesto</td>\n",
       "      <td>38.0</td>\n",
       "      <td>35</td>\n",
       "    </tr>\n",
       "    <tr>\n",
       "      <th>303666</th>\n",
       "      <td>725964</td>\n",
       "      <td>5652846</td>\n",
       "      <td>29434188</td>\n",
       "      <td>138.009995</td>\n",
       "      <td>1</td>\n",
       "      <td>0.000000</td>\n",
       "      <td>Сыр Galbani Mozzarella Ball 45% 125 г бзмж</td>\n",
       "      <td>407</td>\n",
       "      <td>Galbani</td>\n",
       "      <td>38.0</td>\n",
       "      <td>35</td>\n",
       "    </tr>\n",
       "  </tbody>\n",
       "</table>\n",
       "<p>303667 rows × 11 columns</p>\n",
       "</div>"
      ],
      "text/plain": [
       "        user_id  order_id  line_item_id       price  quantity   discount  \\\n",
       "0           525   5354800      28381452  116.000000         4   0.000000   \n",
       "1           525   5354800      29242911   56.990002         2  13.080000   \n",
       "2           525   5354800      29242919   64.989998         2  40.020000   \n",
       "3           525   5354800      29243785   44.990002         6   0.000000   \n",
       "4           525   5354800      29244246   65.900002         6  30.990000   \n",
       "...         ...       ...           ...         ...       ...        ...   \n",
       "303662   725964   5652846      29327078   52.639999         2  23.780001   \n",
       "303663   725964   5652846      29327108   29.459999         1  39.400002   \n",
       "303664   725964   5652846      29327109   29.480000         1  29.580000   \n",
       "303665   725964   5652846      29327192   83.220001         1  21.209999   \n",
       "303666   725964   5652846      29434188  138.009995         1   0.000000   \n",
       "\n",
       "                                             product_name  product_id  \\\n",
       "0       Лазанья Золотой Петушок мясной слоеный пирог з...       37548   \n",
       "1       Хлеб Хлебный Дом Геркулес зерновой с отрубями ...        5636   \n",
       "2               Тортилья Delicados оригинальная пшеничная       22107   \n",
       "3       Вода питьевая минеральная BonAqua газированная...        2530   \n",
       "4             Газированный напиток Mirinda Апельсин 1,5 л     3818486   \n",
       "...                                                   ...         ...   \n",
       "303662      Черная смородина Fine life быстрозамороженная       94654   \n",
       "303663                       Помидоры черри красные 250 г         687   \n",
       "303664                   Помидоры черри сливовидные 250 г     4830888   \n",
       "303665         Сыр Bonfesto Моцарелла mini 45% 100 г бзмж       26739   \n",
       "303666         Сыр Galbani Mozzarella Ball 45% 125 г бзмж         407   \n",
       "\n",
       "             brand_name  master_category_id  parent_category_id  \n",
       "0       Золотой Петушок               101.0                  99  \n",
       "1           Хлебный Дом               596.0                  51  \n",
       "2             Delicados               596.0                  51  \n",
       "3               BonAqua                77.0                  74  \n",
       "4               Mirinda                76.0                  74  \n",
       "...                 ...                 ...                 ...  \n",
       "303662        Fine Life               592.0                  90  \n",
       "303663       Без бренда                85.0                  84  \n",
       "303664       Без бренда                85.0                  84  \n",
       "303665         Bonfesto                38.0                  35  \n",
       "303666          Galbani                38.0                  35  \n",
       "\n",
       "[303667 rows x 11 columns]"
      ]
     },
     "execution_count": 22,
     "metadata": {},
     "output_type": "execute_result"
    }
   ],
   "source": [
    "products"
   ]
  },
  {
   "cell_type": "code",
   "execution_count": 23,
   "metadata": {},
   "outputs": [
    {
     "data": {
      "text/plain": [
       "(303667, 11)"
      ]
     },
     "execution_count": 23,
     "metadata": {},
     "output_type": "execute_result"
    }
   ],
   "source": [
    "products.shape"
   ]
  },
  {
   "cell_type": "code",
   "execution_count": 24,
   "metadata": {},
   "outputs": [
    {
     "data": {
      "text/plain": [
       "303667"
      ]
     },
     "execution_count": 24,
     "metadata": {},
     "output_type": "execute_result"
    }
   ],
   "source": [
    "products.line_item_id.nunique()"
   ]
  },
  {
   "cell_type": "code",
   "execution_count": 25,
   "metadata": {},
   "outputs": [
    {
     "data": {
      "text/plain": [
       "12154"
      ]
     },
     "execution_count": 25,
     "metadata": {},
     "output_type": "execute_result"
    }
   ],
   "source": [
    "products.order_id.nunique()"
   ]
  },
  {
   "cell_type": "code",
   "execution_count": 26,
   "metadata": {},
   "outputs": [
    {
     "data": {
      "text/plain": [
       "10580"
      ]
     },
     "execution_count": 26,
     "metadata": {},
     "output_type": "execute_result"
    }
   ],
   "source": [
    "products.user_id.nunique()"
   ]
  },
  {
   "cell_type": "markdown",
   "metadata": {},
   "source": [
    "### Let's analyze how many items in every order and calculate the price for every order\n",
    "but first we need to create a new column **cost_real** what will include the price ( taking the discount into account) multiplied by quantity "
   ]
  },
  {
   "cell_type": "code",
   "execution_count": 27,
   "metadata": {},
   "outputs": [
    {
     "data": {
      "text/html": [
       "<div>\n",
       "<style scoped>\n",
       "    .dataframe tbody tr th:only-of-type {\n",
       "        vertical-align: middle;\n",
       "    }\n",
       "\n",
       "    .dataframe tbody tr th {\n",
       "        vertical-align: top;\n",
       "    }\n",
       "\n",
       "    .dataframe thead th {\n",
       "        text-align: right;\n",
       "    }\n",
       "</style>\n",
       "<table border=\"1\" class=\"dataframe\">\n",
       "  <thead>\n",
       "    <tr style=\"text-align: right;\">\n",
       "      <th></th>\n",
       "      <th>user_id</th>\n",
       "      <th>order_id</th>\n",
       "      <th>line_item_id</th>\n",
       "      <th>price</th>\n",
       "      <th>quantity</th>\n",
       "      <th>discount</th>\n",
       "      <th>product_name</th>\n",
       "      <th>product_id</th>\n",
       "      <th>brand_name</th>\n",
       "      <th>master_category_id</th>\n",
       "      <th>parent_category_id</th>\n",
       "      <th>cost_real</th>\n",
       "    </tr>\n",
       "  </thead>\n",
       "  <tbody>\n",
       "    <tr>\n",
       "      <th>0</th>\n",
       "      <td>525</td>\n",
       "      <td>5354800</td>\n",
       "      <td>28381452</td>\n",
       "      <td>116.000000</td>\n",
       "      <td>4</td>\n",
       "      <td>0.00</td>\n",
       "      <td>Лазанья Золотой Петушок мясной слоеный пирог з...</td>\n",
       "      <td>37548</td>\n",
       "      <td>Золотой Петушок</td>\n",
       "      <td>101.0</td>\n",
       "      <td>99</td>\n",
       "      <td>464.000000</td>\n",
       "    </tr>\n",
       "    <tr>\n",
       "      <th>1</th>\n",
       "      <td>525</td>\n",
       "      <td>5354800</td>\n",
       "      <td>29242911</td>\n",
       "      <td>56.990002</td>\n",
       "      <td>2</td>\n",
       "      <td>13.08</td>\n",
       "      <td>Хлеб Хлебный Дом Геркулес зерновой с отрубями ...</td>\n",
       "      <td>5636</td>\n",
       "      <td>Хлебный Дом</td>\n",
       "      <td>596.0</td>\n",
       "      <td>51</td>\n",
       "      <td>87.820004</td>\n",
       "    </tr>\n",
       "    <tr>\n",
       "      <th>2</th>\n",
       "      <td>525</td>\n",
       "      <td>5354800</td>\n",
       "      <td>29242919</td>\n",
       "      <td>64.989998</td>\n",
       "      <td>2</td>\n",
       "      <td>40.02</td>\n",
       "      <td>Тортилья Delicados оригинальная пшеничная</td>\n",
       "      <td>22107</td>\n",
       "      <td>Delicados</td>\n",
       "      <td>596.0</td>\n",
       "      <td>51</td>\n",
       "      <td>49.939995</td>\n",
       "    </tr>\n",
       "  </tbody>\n",
       "</table>\n",
       "</div>"
      ],
      "text/plain": [
       "   user_id  order_id  line_item_id       price  quantity  discount  \\\n",
       "0      525   5354800      28381452  116.000000         4      0.00   \n",
       "1      525   5354800      29242911   56.990002         2     13.08   \n",
       "2      525   5354800      29242919   64.989998         2     40.02   \n",
       "\n",
       "                                        product_name  product_id  \\\n",
       "0  Лазанья Золотой Петушок мясной слоеный пирог з...       37548   \n",
       "1  Хлеб Хлебный Дом Геркулес зерновой с отрубями ...        5636   \n",
       "2          Тортилья Delicados оригинальная пшеничная       22107   \n",
       "\n",
       "        brand_name  master_category_id  parent_category_id   cost_real  \n",
       "0  Золотой Петушок               101.0                  99  464.000000  \n",
       "1      Хлебный Дом               596.0                  51   87.820004  \n",
       "2        Delicados               596.0                  51   49.939995  "
      ]
     },
     "execution_count": 27,
     "metadata": {},
     "output_type": "execute_result"
    }
   ],
   "source": [
    "products['cost_real'] = (products.price - products.discount) * products.quantity\n",
    "products.head(3)"
   ]
  },
  {
   "cell_type": "code",
   "execution_count": 28,
   "metadata": {},
   "outputs": [
    {
     "name": "stdout",
     "output_type": "stream",
     "text": [
      "the number of unique products names is 26763\n"
     ]
    }
   ],
   "source": [
    "print('the number of unique products names is', products.product_name.nunique())"
   ]
  },
  {
   "cell_type": "code",
   "execution_count": 29,
   "metadata": {},
   "outputs": [
    {
     "name": "stdout",
     "output_type": "stream",
     "text": [
      "the number of unique customers is 10580\n"
     ]
    }
   ],
   "source": [
    "print('the number of unique customers is', products.user_id.nunique())"
   ]
  },
  {
   "cell_type": "markdown",
   "metadata": {},
   "source": [
    "### **Now when we know the number of products and cost we can determine the most expensive products**"
   ]
  },
  {
   "cell_type": "code",
   "execution_count": 30,
   "metadata": {},
   "outputs": [
    {
     "data": {
      "text/html": [
       "<div>\n",
       "<style scoped>\n",
       "    .dataframe tbody tr th:only-of-type {\n",
       "        vertical-align: middle;\n",
       "    }\n",
       "\n",
       "    .dataframe tbody tr th {\n",
       "        vertical-align: top;\n",
       "    }\n",
       "\n",
       "    .dataframe thead th {\n",
       "        text-align: right;\n",
       "    }\n",
       "</style>\n",
       "<table border=\"1\" class=\"dataframe\">\n",
       "  <thead>\n",
       "    <tr style=\"text-align: right;\">\n",
       "      <th></th>\n",
       "      <th>user_id</th>\n",
       "      <th>order_id</th>\n",
       "      <th>line_item_id</th>\n",
       "      <th>price</th>\n",
       "      <th>quantity</th>\n",
       "      <th>discount</th>\n",
       "      <th>product_name</th>\n",
       "      <th>product_id</th>\n",
       "      <th>brand_name</th>\n",
       "      <th>master_category_id</th>\n",
       "      <th>parent_category_id</th>\n",
       "      <th>cost_real</th>\n",
       "    </tr>\n",
       "  </thead>\n",
       "  <tbody>\n",
       "    <tr>\n",
       "      <th>45062</th>\n",
       "      <td>137924</td>\n",
       "      <td>5631897</td>\n",
       "      <td>29129595</td>\n",
       "      <td>159962.046875</td>\n",
       "      <td>1</td>\n",
       "      <td>39.490002</td>\n",
       "      <td>Голень индейки Индилайт без кости охлажденная ...</td>\n",
       "      <td>3818829</td>\n",
       "      <td>Индилайт</td>\n",
       "      <td>122.0</td>\n",
       "      <td>119</td>\n",
       "      <td>159922.556873</td>\n",
       "    </tr>\n",
       "  </tbody>\n",
       "</table>\n",
       "</div>"
      ],
      "text/plain": [
       "       user_id  order_id  line_item_id          price  quantity   discount  \\\n",
       "45062   137924   5631897      29129595  159962.046875         1  39.490002   \n",
       "\n",
       "                                            product_name  product_id  \\\n",
       "45062  Голень индейки Индилайт без кости охлажденная ...     3818829   \n",
       "\n",
       "      brand_name  master_category_id  parent_category_id      cost_real  \n",
       "45062   Индилайт               122.0                 119  159922.556873  "
      ]
     },
     "execution_count": 30,
     "metadata": {},
     "output_type": "execute_result"
    }
   ],
   "source": [
    "products[products.cost_real == products.cost_real.max()] ## the most expensive "
   ]
  },
  {
   "cell_type": "code",
   "execution_count": 31,
   "metadata": {},
   "outputs": [
    {
     "data": {
      "text/plain": [
       "159962.046875"
      ]
     },
     "execution_count": 31,
     "metadata": {},
     "output_type": "execute_result"
    }
   ],
   "source": [
    "most_expensive_product_cost = products.groupby(['product_name'])['price'].max().max()\n",
    "most_expensive_product_cost"
   ]
  },
  {
   "cell_type": "markdown",
   "metadata": {},
   "source": [
    "### **We can determine the most expensive products and we can make predictions that people who can buy such an espensive products will buy something in the same field with the same price**"
   ]
  },
  {
   "cell_type": "code",
   "execution_count": 32,
   "metadata": {},
   "outputs": [
    {
     "data": {
      "text/html": [
       "<div>\n",
       "<style scoped>\n",
       "    .dataframe tbody tr th:only-of-type {\n",
       "        vertical-align: middle;\n",
       "    }\n",
       "\n",
       "    .dataframe tbody tr th {\n",
       "        vertical-align: top;\n",
       "    }\n",
       "\n",
       "    .dataframe thead th {\n",
       "        text-align: right;\n",
       "    }\n",
       "</style>\n",
       "<table border=\"1\" class=\"dataframe\">\n",
       "  <thead>\n",
       "    <tr style=\"text-align: right;\">\n",
       "      <th></th>\n",
       "      <th>user_id</th>\n",
       "      <th>order_id</th>\n",
       "      <th>line_item_id</th>\n",
       "      <th>price</th>\n",
       "      <th>quantity</th>\n",
       "      <th>discount</th>\n",
       "      <th>product_name</th>\n",
       "      <th>product_id</th>\n",
       "      <th>brand_name</th>\n",
       "      <th>master_category_id</th>\n",
       "      <th>parent_category_id</th>\n",
       "      <th>cost_real</th>\n",
       "    </tr>\n",
       "  </thead>\n",
       "  <tbody>\n",
       "    <tr>\n",
       "      <th>355</th>\n",
       "      <td>3225</td>\n",
       "      <td>5350970</td>\n",
       "      <td>28436606</td>\n",
       "      <td>1189.010010</td>\n",
       "      <td>1</td>\n",
       "      <td>510.0</td>\n",
       "      <td>Креветки Бухта изобилия королевская 50/70</td>\n",
       "      <td>5368</td>\n",
       "      <td>Agama</td>\n",
       "      <td>118.0</td>\n",
       "      <td>112</td>\n",
       "      <td>679.010010</td>\n",
       "    </tr>\n",
       "    <tr>\n",
       "      <th>453</th>\n",
       "      <td>3674</td>\n",
       "      <td>5307004</td>\n",
       "      <td>28931590</td>\n",
       "      <td>1923.979980</td>\n",
       "      <td>1</td>\n",
       "      <td>0.0</td>\n",
       "      <td>Глазной мускул говяжий Заречное охлажденный ~2...</td>\n",
       "      <td>5214742</td>\n",
       "      <td>Заречное</td>\n",
       "      <td>120.0</td>\n",
       "      <td>119</td>\n",
       "      <td>1923.979980</td>\n",
       "    </tr>\n",
       "    <tr>\n",
       "      <th>454</th>\n",
       "      <td>3674</td>\n",
       "      <td>5307004</td>\n",
       "      <td>28932555</td>\n",
       "      <td>2150.189941</td>\n",
       "      <td>1</td>\n",
       "      <td>0.0</td>\n",
       "      <td>Лопатка говяжья Мираторг без кости замороженна...</td>\n",
       "      <td>5063231</td>\n",
       "      <td>Мираторг</td>\n",
       "      <td>121.0</td>\n",
       "      <td>119</td>\n",
       "      <td>2150.189941</td>\n",
       "    </tr>\n",
       "  </tbody>\n",
       "</table>\n",
       "</div>"
      ],
      "text/plain": [
       "     user_id  order_id  line_item_id        price  quantity  discount  \\\n",
       "355     3225   5350970      28436606  1189.010010         1     510.0   \n",
       "453     3674   5307004      28931590  1923.979980         1       0.0   \n",
       "454     3674   5307004      28932555  2150.189941         1       0.0   \n",
       "\n",
       "                                          product_name  product_id brand_name  \\\n",
       "355          Креветки Бухта изобилия королевская 50/70        5368      Agama   \n",
       "453  Глазной мускул говяжий Заречное охлажденный ~2...     5214742   Заречное   \n",
       "454  Лопатка говяжья Мираторг без кости замороженна...     5063231   Мираторг   \n",
       "\n",
       "     master_category_id  parent_category_id    cost_real  \n",
       "355               118.0                 112   679.010010  \n",
       "453               120.0                 119  1923.979980  \n",
       "454               121.0                 119  2150.189941  "
      ]
     },
     "execution_count": 32,
     "metadata": {},
     "output_type": "execute_result"
    }
   ],
   "source": [
    "products[(products.price < 100000) & (products.price > 1000)].head(3) #expensive products with high price"
   ]
  },
  {
   "cell_type": "code",
   "execution_count": null,
   "metadata": {},
   "outputs": [],
   "source": []
  },
  {
   "cell_type": "markdown",
   "metadata": {},
   "source": [
    "### **ALso we have noticed that there are some purchases with quantity more than 1, that means that some people buy the same product more than once. We can analyze it and it will help our model to make predictions for these people better : because if they buy this particular product often there is more chance that they will buy it again**"
   ]
  },
  {
   "cell_type": "code",
   "execution_count": 33,
   "metadata": {},
   "outputs": [
    {
     "data": {
      "text/plain": [
       "repeated\n",
       "False    297949\n",
       "True       5718\n",
       "Name: user_id, dtype: int64"
      ]
     },
     "execution_count": 33,
     "metadata": {},
     "output_type": "execute_result"
    }
   ],
   "source": [
    "repeat_customers = products[products.quantity >10]\n",
    "\n",
    "products['repeated'] = (products.quantity >= 10)\n",
    "products.groupby(['repeated'])['user_id'].count()"
   ]
  },
  {
   "cell_type": "markdown",
   "metadata": {},
   "source": [
    "### **We need to create a column with a number of purshaces for every customer**"
   ]
  },
  {
   "cell_type": "code",
   "execution_count": 34,
   "metadata": {},
   "outputs": [
    {
     "data": {
      "text/plain": [
       "147"
      ]
     },
     "execution_count": 34,
     "metadata": {},
     "output_type": "execute_result"
    }
   ],
   "source": [
    "number_purchases = products.groupby(['user_id'])['order_id'].count()\n",
    "products1 = pd.merge(products,number_purchases,on = 'user_id')\n",
    "products1 = products1.rename(columns = {'order_id_y':'num_purchases', 'order_id_x' :'order_id'})\n",
    "products = products1\n",
    "products.num_purchases.nunique()\n"
   ]
  },
  {
   "cell_type": "code",
   "execution_count": null,
   "metadata": {},
   "outputs": [],
   "source": []
  },
  {
   "cell_type": "code",
   "execution_count": null,
   "metadata": {},
   "outputs": [],
   "source": []
  },
  {
   "cell_type": "markdown",
   "metadata": {},
   "source": [
    "### **there are some columns with quantity = 1 but still with high cost_real. That means that these people buy something in huge portion for once, probably it is people who have their oun markets or cafe. Let't determine them**"
   ]
  },
  {
   "cell_type": "code",
   "execution_count": 35,
   "metadata": {},
   "outputs": [
    {
     "data": {
      "text/plain": [
       "technics\n",
       "False    303647\n",
       "True         20\n",
       "Name: user_id, dtype: int64"
      ]
     },
     "execution_count": 35,
     "metadata": {},
     "output_type": "execute_result"
    }
   ],
   "source": [
    "# opt_customers = products[(products.cost_real > 5000) & (products.quantity < 5)] \n",
    "\n",
    "products['technics'] = (products.cost_real > 5000) & (products.num_purchases < 5) \n",
    "products.groupby(['technics'])['user_id'].count()"
   ]
  },
  {
   "cell_type": "code",
   "execution_count": null,
   "metadata": {},
   "outputs": [],
   "source": []
  },
  {
   "cell_type": "code",
   "execution_count": null,
   "metadata": {},
   "outputs": [],
   "source": []
  },
  {
   "cell_type": "markdown",
   "metadata": {},
   "source": [
    "###  **Let's add another bool column \"Prefer_Discounts\"** "
   ]
  },
  {
   "cell_type": "code",
   "execution_count": 36,
   "metadata": {},
   "outputs": [],
   "source": [
    "discounts_sum = products.groupby(['user_id'],as_index = False)['discount'].sum()\n",
    "discounts1= pd.merge(products,discounts_sum,on = 'user_id')\n",
    "discounts1 = discounts1.rename(columns = {'discount_x':'discount', 'discount_y' :'discount_total'})\n",
    "products = discounts1\n"
   ]
  },
  {
   "cell_type": "code",
   "execution_count": 37,
   "metadata": {},
   "outputs": [
    {
     "data": {
      "text/html": [
       "<div>\n",
       "<style scoped>\n",
       "    .dataframe tbody tr th:only-of-type {\n",
       "        vertical-align: middle;\n",
       "    }\n",
       "\n",
       "    .dataframe tbody tr th {\n",
       "        vertical-align: top;\n",
       "    }\n",
       "\n",
       "    .dataframe thead th {\n",
       "        text-align: right;\n",
       "    }\n",
       "</style>\n",
       "<table border=\"1\" class=\"dataframe\">\n",
       "  <thead>\n",
       "    <tr style=\"text-align: right;\">\n",
       "      <th></th>\n",
       "      <th>user_id</th>\n",
       "      <th>order_id</th>\n",
       "      <th>line_item_id</th>\n",
       "      <th>price</th>\n",
       "      <th>quantity</th>\n",
       "      <th>discount</th>\n",
       "      <th>product_name</th>\n",
       "      <th>product_id</th>\n",
       "      <th>brand_name</th>\n",
       "      <th>master_category_id</th>\n",
       "      <th>parent_category_id</th>\n",
       "      <th>cost_real</th>\n",
       "      <th>repeated</th>\n",
       "      <th>num_purchases</th>\n",
       "      <th>technics</th>\n",
       "      <th>discount_total</th>\n",
       "    </tr>\n",
       "  </thead>\n",
       "  <tbody>\n",
       "    <tr>\n",
       "      <th>0</th>\n",
       "      <td>525</td>\n",
       "      <td>5354800</td>\n",
       "      <td>28381452</td>\n",
       "      <td>116.000000</td>\n",
       "      <td>4</td>\n",
       "      <td>0.000000</td>\n",
       "      <td>Лазанья Золотой Петушок мясной слоеный пирог з...</td>\n",
       "      <td>37548</td>\n",
       "      <td>Золотой Петушок</td>\n",
       "      <td>101.0</td>\n",
       "      <td>99</td>\n",
       "      <td>464.000000</td>\n",
       "      <td>False</td>\n",
       "      <td>14</td>\n",
       "      <td>False</td>\n",
       "      <td>630.080004</td>\n",
       "    </tr>\n",
       "    <tr>\n",
       "      <th>1</th>\n",
       "      <td>525</td>\n",
       "      <td>5354800</td>\n",
       "      <td>29242911</td>\n",
       "      <td>56.990002</td>\n",
       "      <td>2</td>\n",
       "      <td>13.080000</td>\n",
       "      <td>Хлеб Хлебный Дом Геркулес зерновой с отрубями ...</td>\n",
       "      <td>5636</td>\n",
       "      <td>Хлебный Дом</td>\n",
       "      <td>596.0</td>\n",
       "      <td>51</td>\n",
       "      <td>87.820004</td>\n",
       "      <td>False</td>\n",
       "      <td>14</td>\n",
       "      <td>False</td>\n",
       "      <td>630.080004</td>\n",
       "    </tr>\n",
       "    <tr>\n",
       "      <th>2</th>\n",
       "      <td>525</td>\n",
       "      <td>5354800</td>\n",
       "      <td>29242919</td>\n",
       "      <td>64.989998</td>\n",
       "      <td>2</td>\n",
       "      <td>40.020000</td>\n",
       "      <td>Тортилья Delicados оригинальная пшеничная</td>\n",
       "      <td>22107</td>\n",
       "      <td>Delicados</td>\n",
       "      <td>596.0</td>\n",
       "      <td>51</td>\n",
       "      <td>49.939995</td>\n",
       "      <td>False</td>\n",
       "      <td>14</td>\n",
       "      <td>False</td>\n",
       "      <td>630.080004</td>\n",
       "    </tr>\n",
       "    <tr>\n",
       "      <th>3</th>\n",
       "      <td>525</td>\n",
       "      <td>5354800</td>\n",
       "      <td>29243785</td>\n",
       "      <td>44.990002</td>\n",
       "      <td>6</td>\n",
       "      <td>0.000000</td>\n",
       "      <td>Вода питьевая минеральная BonAqua газированная...</td>\n",
       "      <td>2530</td>\n",
       "      <td>BonAqua</td>\n",
       "      <td>77.0</td>\n",
       "      <td>74</td>\n",
       "      <td>269.940010</td>\n",
       "      <td>False</td>\n",
       "      <td>14</td>\n",
       "      <td>False</td>\n",
       "      <td>630.080004</td>\n",
       "    </tr>\n",
       "    <tr>\n",
       "      <th>4</th>\n",
       "      <td>525</td>\n",
       "      <td>5354800</td>\n",
       "      <td>29244246</td>\n",
       "      <td>65.900002</td>\n",
       "      <td>6</td>\n",
       "      <td>30.990000</td>\n",
       "      <td>Газированный напиток Mirinda Апельсин 1,5 л</td>\n",
       "      <td>3818486</td>\n",
       "      <td>Mirinda</td>\n",
       "      <td>76.0</td>\n",
       "      <td>74</td>\n",
       "      <td>209.460011</td>\n",
       "      <td>False</td>\n",
       "      <td>14</td>\n",
       "      <td>False</td>\n",
       "      <td>630.080004</td>\n",
       "    </tr>\n",
       "    <tr>\n",
       "      <th>...</th>\n",
       "      <td>...</td>\n",
       "      <td>...</td>\n",
       "      <td>...</td>\n",
       "      <td>...</td>\n",
       "      <td>...</td>\n",
       "      <td>...</td>\n",
       "      <td>...</td>\n",
       "      <td>...</td>\n",
       "      <td>...</td>\n",
       "      <td>...</td>\n",
       "      <td>...</td>\n",
       "      <td>...</td>\n",
       "      <td>...</td>\n",
       "      <td>...</td>\n",
       "      <td>...</td>\n",
       "      <td>...</td>\n",
       "    </tr>\n",
       "    <tr>\n",
       "      <th>303662</th>\n",
       "      <td>725964</td>\n",
       "      <td>5652846</td>\n",
       "      <td>29327078</td>\n",
       "      <td>52.639999</td>\n",
       "      <td>2</td>\n",
       "      <td>23.780001</td>\n",
       "      <td>Черная смородина Fine life быстрозамороженная</td>\n",
       "      <td>94654</td>\n",
       "      <td>Fine Life</td>\n",
       "      <td>592.0</td>\n",
       "      <td>90</td>\n",
       "      <td>57.719997</td>\n",
       "      <td>False</td>\n",
       "      <td>6</td>\n",
       "      <td>False</td>\n",
       "      <td>909.529999</td>\n",
       "    </tr>\n",
       "    <tr>\n",
       "      <th>303663</th>\n",
       "      <td>725964</td>\n",
       "      <td>5652846</td>\n",
       "      <td>29327108</td>\n",
       "      <td>29.459999</td>\n",
       "      <td>1</td>\n",
       "      <td>39.400002</td>\n",
       "      <td>Помидоры черри красные 250 г</td>\n",
       "      <td>687</td>\n",
       "      <td>Без бренда</td>\n",
       "      <td>85.0</td>\n",
       "      <td>84</td>\n",
       "      <td>-9.940002</td>\n",
       "      <td>False</td>\n",
       "      <td>6</td>\n",
       "      <td>False</td>\n",
       "      <td>909.529999</td>\n",
       "    </tr>\n",
       "    <tr>\n",
       "      <th>303664</th>\n",
       "      <td>725964</td>\n",
       "      <td>5652846</td>\n",
       "      <td>29327109</td>\n",
       "      <td>29.480000</td>\n",
       "      <td>1</td>\n",
       "      <td>29.580000</td>\n",
       "      <td>Помидоры черри сливовидные 250 г</td>\n",
       "      <td>4830888</td>\n",
       "      <td>Без бренда</td>\n",
       "      <td>85.0</td>\n",
       "      <td>84</td>\n",
       "      <td>-0.100000</td>\n",
       "      <td>False</td>\n",
       "      <td>6</td>\n",
       "      <td>False</td>\n",
       "      <td>909.529999</td>\n",
       "    </tr>\n",
       "    <tr>\n",
       "      <th>303665</th>\n",
       "      <td>725964</td>\n",
       "      <td>5652846</td>\n",
       "      <td>29327192</td>\n",
       "      <td>83.220001</td>\n",
       "      <td>1</td>\n",
       "      <td>21.209999</td>\n",
       "      <td>Сыр Bonfesto Моцарелла mini 45% 100 г бзмж</td>\n",
       "      <td>26739</td>\n",
       "      <td>Bonfesto</td>\n",
       "      <td>38.0</td>\n",
       "      <td>35</td>\n",
       "      <td>62.010002</td>\n",
       "      <td>False</td>\n",
       "      <td>6</td>\n",
       "      <td>False</td>\n",
       "      <td>909.529999</td>\n",
       "    </tr>\n",
       "    <tr>\n",
       "      <th>303666</th>\n",
       "      <td>725964</td>\n",
       "      <td>5652846</td>\n",
       "      <td>29434188</td>\n",
       "      <td>138.009995</td>\n",
       "      <td>1</td>\n",
       "      <td>0.000000</td>\n",
       "      <td>Сыр Galbani Mozzarella Ball 45% 125 г бзмж</td>\n",
       "      <td>407</td>\n",
       "      <td>Galbani</td>\n",
       "      <td>38.0</td>\n",
       "      <td>35</td>\n",
       "      <td>138.009995</td>\n",
       "      <td>False</td>\n",
       "      <td>6</td>\n",
       "      <td>False</td>\n",
       "      <td>909.529999</td>\n",
       "    </tr>\n",
       "  </tbody>\n",
       "</table>\n",
       "<p>303667 rows × 16 columns</p>\n",
       "</div>"
      ],
      "text/plain": [
       "        user_id  order_id  line_item_id       price  quantity   discount  \\\n",
       "0           525   5354800      28381452  116.000000         4   0.000000   \n",
       "1           525   5354800      29242911   56.990002         2  13.080000   \n",
       "2           525   5354800      29242919   64.989998         2  40.020000   \n",
       "3           525   5354800      29243785   44.990002         6   0.000000   \n",
       "4           525   5354800      29244246   65.900002         6  30.990000   \n",
       "...         ...       ...           ...         ...       ...        ...   \n",
       "303662   725964   5652846      29327078   52.639999         2  23.780001   \n",
       "303663   725964   5652846      29327108   29.459999         1  39.400002   \n",
       "303664   725964   5652846      29327109   29.480000         1  29.580000   \n",
       "303665   725964   5652846      29327192   83.220001         1  21.209999   \n",
       "303666   725964   5652846      29434188  138.009995         1   0.000000   \n",
       "\n",
       "                                             product_name  product_id  \\\n",
       "0       Лазанья Золотой Петушок мясной слоеный пирог з...       37548   \n",
       "1       Хлеб Хлебный Дом Геркулес зерновой с отрубями ...        5636   \n",
       "2               Тортилья Delicados оригинальная пшеничная       22107   \n",
       "3       Вода питьевая минеральная BonAqua газированная...        2530   \n",
       "4             Газированный напиток Mirinda Апельсин 1,5 л     3818486   \n",
       "...                                                   ...         ...   \n",
       "303662      Черная смородина Fine life быстрозамороженная       94654   \n",
       "303663                       Помидоры черри красные 250 г         687   \n",
       "303664                   Помидоры черри сливовидные 250 г     4830888   \n",
       "303665         Сыр Bonfesto Моцарелла mini 45% 100 г бзмж       26739   \n",
       "303666         Сыр Galbani Mozzarella Ball 45% 125 г бзмж         407   \n",
       "\n",
       "             brand_name  master_category_id  parent_category_id   cost_real  \\\n",
       "0       Золотой Петушок               101.0                  99  464.000000   \n",
       "1           Хлебный Дом               596.0                  51   87.820004   \n",
       "2             Delicados               596.0                  51   49.939995   \n",
       "3               BonAqua                77.0                  74  269.940010   \n",
       "4               Mirinda                76.0                  74  209.460011   \n",
       "...                 ...                 ...                 ...         ...   \n",
       "303662        Fine Life               592.0                  90   57.719997   \n",
       "303663       Без бренда                85.0                  84   -9.940002   \n",
       "303664       Без бренда                85.0                  84   -0.100000   \n",
       "303665         Bonfesto                38.0                  35   62.010002   \n",
       "303666          Galbani                38.0                  35  138.009995   \n",
       "\n",
       "        repeated  num_purchases  technics  discount_total  \n",
       "0          False             14     False      630.080004  \n",
       "1          False             14     False      630.080004  \n",
       "2          False             14     False      630.080004  \n",
       "3          False             14     False      630.080004  \n",
       "4          False             14     False      630.080004  \n",
       "...          ...            ...       ...             ...  \n",
       "303662     False              6     False      909.529999  \n",
       "303663     False              6     False      909.529999  \n",
       "303664     False              6     False      909.529999  \n",
       "303665     False              6     False      909.529999  \n",
       "303666     False              6     False      909.529999  \n",
       "\n",
       "[303667 rows x 16 columns]"
      ]
     },
     "execution_count": 37,
     "metadata": {},
     "output_type": "execute_result"
    }
   ],
   "source": [
    "products"
   ]
  },
  {
   "cell_type": "code",
   "execution_count": 38,
   "metadata": {},
   "outputs": [],
   "source": [
    "products['prefer_discounts'] = (products.discount_total > products.discount_total.mean())\n"
   ]
  },
  {
   "cell_type": "code",
   "execution_count": 39,
   "metadata": {},
   "outputs": [
    {
     "data": {
      "text/plain": [
       "False    199140\n",
       "True     104527\n",
       "Name: prefer_discounts, dtype: int64"
      ]
     },
     "execution_count": 39,
     "metadata": {},
     "output_type": "execute_result"
    }
   ],
   "source": [
    "products.prefer_discounts.value_counts()"
   ]
  },
  {
   "cell_type": "code",
   "execution_count": 40,
   "metadata": {},
   "outputs": [
    {
     "data": {
      "text/html": [
       "<div>\n",
       "<style scoped>\n",
       "    .dataframe tbody tr th:only-of-type {\n",
       "        vertical-align: middle;\n",
       "    }\n",
       "\n",
       "    .dataframe tbody tr th {\n",
       "        vertical-align: top;\n",
       "    }\n",
       "\n",
       "    .dataframe thead th {\n",
       "        text-align: right;\n",
       "    }\n",
       "</style>\n",
       "<table border=\"1\" class=\"dataframe\">\n",
       "  <thead>\n",
       "    <tr style=\"text-align: right;\">\n",
       "      <th></th>\n",
       "      <th>user_id</th>\n",
       "      <th>order_id</th>\n",
       "      <th>line_item_id</th>\n",
       "      <th>price</th>\n",
       "      <th>quantity</th>\n",
       "      <th>discount</th>\n",
       "      <th>product_name</th>\n",
       "      <th>product_id</th>\n",
       "      <th>brand_name</th>\n",
       "      <th>master_category_id</th>\n",
       "      <th>parent_category_id</th>\n",
       "      <th>cost_real</th>\n",
       "      <th>repeated</th>\n",
       "      <th>num_purchases</th>\n",
       "      <th>technics</th>\n",
       "      <th>discount_total</th>\n",
       "      <th>prefer_discounts</th>\n",
       "    </tr>\n",
       "  </thead>\n",
       "  <tbody>\n",
       "    <tr>\n",
       "      <th>250922</th>\n",
       "      <td>699668</td>\n",
       "      <td>5555460</td>\n",
       "      <td>28495689</td>\n",
       "      <td>64.900002</td>\n",
       "      <td>2</td>\n",
       "      <td>0.0</td>\n",
       "      <td>Огурец длинноплодный Мое Лето гладкий 300 г</td>\n",
       "      <td>12792</td>\n",
       "      <td>Мое лето</td>\n",
       "      <td>85.0</td>\n",
       "      <td>84</td>\n",
       "      <td>129.800003</td>\n",
       "      <td>False</td>\n",
       "      <td>12</td>\n",
       "      <td>False</td>\n",
       "      <td>442.579998</td>\n",
       "      <td>False</td>\n",
       "    </tr>\n",
       "    <tr>\n",
       "      <th>264114</th>\n",
       "      <td>705396</td>\n",
       "      <td>5627128</td>\n",
       "      <td>29112694</td>\n",
       "      <td>99.000000</td>\n",
       "      <td>1</td>\n",
       "      <td>0.0</td>\n",
       "      <td>Батарейки Panasonic Alkaline Power AAA 4 шт</td>\n",
       "      <td>104809</td>\n",
       "      <td>Panasonic</td>\n",
       "      <td>420.0</td>\n",
       "      <td>418</td>\n",
       "      <td>99.000000</td>\n",
       "      <td>False</td>\n",
       "      <td>50</td>\n",
       "      <td>False</td>\n",
       "      <td>431.509992</td>\n",
       "      <td>False</td>\n",
       "    </tr>\n",
       "    <tr>\n",
       "      <th>208672</th>\n",
       "      <td>586036</td>\n",
       "      <td>5587402</td>\n",
       "      <td>28742184</td>\n",
       "      <td>142.830002</td>\n",
       "      <td>1</td>\n",
       "      <td>0.0</td>\n",
       "      <td>Крыло куриное с кожей Куриное Царство Целое за...</td>\n",
       "      <td>5164</td>\n",
       "      <td>Куриное Царство</td>\n",
       "      <td>122.0</td>\n",
       "      <td>119</td>\n",
       "      <td>142.830002</td>\n",
       "      <td>False</td>\n",
       "      <td>26</td>\n",
       "      <td>False</td>\n",
       "      <td>151.789997</td>\n",
       "      <td>False</td>\n",
       "    </tr>\n",
       "    <tr>\n",
       "      <th>219076</th>\n",
       "      <td>629561</td>\n",
       "      <td>5391078</td>\n",
       "      <td>29046607</td>\n",
       "      <td>87.290001</td>\n",
       "      <td>1</td>\n",
       "      <td>0.0</td>\n",
       "      <td>NaN</td>\n",
       "      <td>0</td>\n",
       "      <td>NaN</td>\n",
       "      <td>NaN</td>\n",
       "      <td>0</td>\n",
       "      <td>87.290001</td>\n",
       "      <td>False</td>\n",
       "      <td>16</td>\n",
       "      <td>False</td>\n",
       "      <td>138.800003</td>\n",
       "      <td>False</td>\n",
       "    </tr>\n",
       "    <tr>\n",
       "      <th>54638</th>\n",
       "      <td>161064</td>\n",
       "      <td>5461128</td>\n",
       "      <td>28962768</td>\n",
       "      <td>164.000000</td>\n",
       "      <td>1</td>\n",
       "      <td>0.0</td>\n",
       "      <td>Жидкое мыло Palmolive Натурэль Интенсивное увл...</td>\n",
       "      <td>25168</td>\n",
       "      <td>Palmolive</td>\n",
       "      <td>234.0</td>\n",
       "      <td>232</td>\n",
       "      <td>164.000000</td>\n",
       "      <td>False</td>\n",
       "      <td>42</td>\n",
       "      <td>False</td>\n",
       "      <td>981.519998</td>\n",
       "      <td>False</td>\n",
       "    </tr>\n",
       "  </tbody>\n",
       "</table>\n",
       "</div>"
      ],
      "text/plain": [
       "        user_id  order_id  line_item_id       price  quantity  discount  \\\n",
       "250922   699668   5555460      28495689   64.900002         2       0.0   \n",
       "264114   705396   5627128      29112694   99.000000         1       0.0   \n",
       "208672   586036   5587402      28742184  142.830002         1       0.0   \n",
       "219076   629561   5391078      29046607   87.290001         1       0.0   \n",
       "54638    161064   5461128      28962768  164.000000         1       0.0   \n",
       "\n",
       "                                             product_name  product_id  \\\n",
       "250922        Огурец длинноплодный Мое Лето гладкий 300 г       12792   \n",
       "264114        Батарейки Panasonic Alkaline Power AAA 4 шт      104809   \n",
       "208672  Крыло куриное с кожей Куриное Царство Целое за...        5164   \n",
       "219076                                                NaN           0   \n",
       "54638   Жидкое мыло Palmolive Натурэль Интенсивное увл...       25168   \n",
       "\n",
       "             brand_name  master_category_id  parent_category_id   cost_real  \\\n",
       "250922         Мое лето                85.0                  84  129.800003   \n",
       "264114        Panasonic               420.0                 418   99.000000   \n",
       "208672  Куриное Царство               122.0                 119  142.830002   \n",
       "219076              NaN                 NaN                   0   87.290001   \n",
       "54638         Palmolive               234.0                 232  164.000000   \n",
       "\n",
       "        repeated  num_purchases  technics  discount_total  prefer_discounts  \n",
       "250922     False             12     False      442.579998             False  \n",
       "264114     False             50     False      431.509992             False  \n",
       "208672     False             26     False      151.789997             False  \n",
       "219076     False             16     False      138.800003             False  \n",
       "54638      False             42     False      981.519998             False  "
      ]
     },
     "execution_count": 40,
     "metadata": {},
     "output_type": "execute_result"
    }
   ],
   "source": [
    "products.sample(5)"
   ]
  },
  {
   "cell_type": "markdown",
   "metadata": {},
   "source": [
    "### **There are also families who have big check, they buy a lot of products for one time. We can find them. Now when we have number of items per user we can detect a families. They buy a lot of products for once so we can group them according do order_id and high number of items in order**"
   ]
  },
  {
   "cell_type": "code",
   "execution_count": null,
   "metadata": {},
   "outputs": [],
   "source": []
  },
  {
   "cell_type": "code",
   "execution_count": null,
   "metadata": {},
   "outputs": [],
   "source": []
  },
  {
   "cell_type": "code",
   "execution_count": null,
   "metadata": {},
   "outputs": [],
   "source": []
  },
  {
   "cell_type": "code",
   "execution_count": null,
   "metadata": {},
   "outputs": [],
   "source": []
  },
  {
   "cell_type": "code",
   "execution_count": null,
   "metadata": {},
   "outputs": [],
   "source": []
  },
  {
   "cell_type": "code",
   "execution_count": null,
   "metadata": {},
   "outputs": [],
   "source": []
  },
  {
   "cell_type": "code",
   "execution_count": 41,
   "metadata": {},
   "outputs": [
    {
     "data": {
      "text/html": [
       "<div>\n",
       "<style scoped>\n",
       "    .dataframe tbody tr th:only-of-type {\n",
       "        vertical-align: middle;\n",
       "    }\n",
       "\n",
       "    .dataframe tbody tr th {\n",
       "        vertical-align: top;\n",
       "    }\n",
       "\n",
       "    .dataframe thead th {\n",
       "        text-align: right;\n",
       "    }\n",
       "</style>\n",
       "<table border=\"1\" class=\"dataframe\">\n",
       "  <thead>\n",
       "    <tr style=\"text-align: right;\">\n",
       "      <th></th>\n",
       "      <th>id</th>\n",
       "      <th>name</th>\n",
       "      <th>parent_id</th>\n",
       "    </tr>\n",
       "  </thead>\n",
       "  <tbody>\n",
       "    <tr>\n",
       "      <th>311</th>\n",
       "      <td>312</td>\n",
       "      <td>Подставки и прихватки</td>\n",
       "      <td>303</td>\n",
       "    </tr>\n",
       "    <tr>\n",
       "      <th>137</th>\n",
       "      <td>138</td>\n",
       "      <td>Детские товары</td>\n",
       "      <td>0</td>\n",
       "    </tr>\n",
       "    <tr>\n",
       "      <th>214</th>\n",
       "      <td>215</td>\n",
       "      <td>Наборы для бритья</td>\n",
       "      <td>208</td>\n",
       "    </tr>\n",
       "    <tr>\n",
       "      <th>726</th>\n",
       "      <td>727</td>\n",
       "      <td>Уход за стеклами</td>\n",
       "      <td>504</td>\n",
       "    </tr>\n",
       "    <tr>\n",
       "      <th>34</th>\n",
       "      <td>35</td>\n",
       "      <td>Сыры</td>\n",
       "      <td>1</td>\n",
       "    </tr>\n",
       "  </tbody>\n",
       "</table>\n",
       "</div>"
      ],
      "text/plain": [
       "      id                   name  parent_id\n",
       "311  312  Подставки и прихватки        303\n",
       "137  138         Детские товары          0\n",
       "214  215      Наборы для бритья        208\n",
       "726  727       Уход за стеклами        504\n",
       "34    35                   Сыры          1"
      ]
     },
     "execution_count": 41,
     "metadata": {},
     "output_type": "execute_result"
    }
   ],
   "source": [
    "categories= pd.read_csv(r'C:/Users/zvere/Sber/test-recsys/kaggle_tab_1345/tab_3_categories.csv')\n",
    "categories.sample(5)\n"
   ]
  },
  {
   "cell_type": "code",
   "execution_count": null,
   "metadata": {},
   "outputs": [],
   "source": []
  },
  {
   "cell_type": "code",
   "execution_count": 42,
   "metadata": {},
   "outputs": [
    {
     "data": {
      "text/html": [
       "<div>\n",
       "<style scoped>\n",
       "    .dataframe tbody tr th:only-of-type {\n",
       "        vertical-align: middle;\n",
       "    }\n",
       "\n",
       "    .dataframe tbody tr th {\n",
       "        vertical-align: top;\n",
       "    }\n",
       "\n",
       "    .dataframe thead th {\n",
       "        text-align: right;\n",
       "    }\n",
       "</style>\n",
       "<table border=\"1\" class=\"dataframe\">\n",
       "  <thead>\n",
       "    <tr style=\"text-align: right;\">\n",
       "      <th></th>\n",
       "      <th>user_id</th>\n",
       "      <th>gender</th>\n",
       "      <th>bdate</th>\n",
       "    </tr>\n",
       "  </thead>\n",
       "  <tbody>\n",
       "    <tr>\n",
       "      <th>132360</th>\n",
       "      <td>2619553</td>\n",
       "      <td>NaN</td>\n",
       "      <td>NaN</td>\n",
       "    </tr>\n",
       "    <tr>\n",
       "      <th>167530</th>\n",
       "      <td>2772130</td>\n",
       "      <td>NaN</td>\n",
       "      <td>NaN</td>\n",
       "    </tr>\n",
       "    <tr>\n",
       "      <th>53904</th>\n",
       "      <td>968749</td>\n",
       "      <td>female</td>\n",
       "      <td>1974-11-24</td>\n",
       "    </tr>\n",
       "    <tr>\n",
       "      <th>205675</th>\n",
       "      <td>2871061</td>\n",
       "      <td>NaN</td>\n",
       "      <td>NaN</td>\n",
       "    </tr>\n",
       "    <tr>\n",
       "      <th>80978</th>\n",
       "      <td>2456287</td>\n",
       "      <td>NaN</td>\n",
       "      <td>NaN</td>\n",
       "    </tr>\n",
       "  </tbody>\n",
       "</table>\n",
       "</div>"
      ],
      "text/plain": [
       "        user_id  gender       bdate\n",
       "132360  2619553     NaN         NaN\n",
       "167530  2772130     NaN         NaN\n",
       "53904    968749  female  1974-11-24\n",
       "205675  2871061     NaN         NaN\n",
       "80978   2456287     NaN         NaN"
      ]
     },
     "execution_count": 42,
     "metadata": {},
     "output_type": "execute_result"
    }
   ],
   "source": [
    "user_profiles = pd.read_csv(r'C:/Users/zvere/Sber/test-recsys/kaggle_tab_1345/tab_4_user_profiles.csv')\n",
    "user_profiles.sample(5)\n"
   ]
  },
  {
   "cell_type": "code",
   "execution_count": null,
   "metadata": {},
   "outputs": [],
   "source": []
  },
  {
   "cell_type": "code",
   "execution_count": 43,
   "metadata": {},
   "outputs": [
    {
     "data": {
      "text/html": [
       "<div>\n",
       "<style scoped>\n",
       "    .dataframe tbody tr th:only-of-type {\n",
       "        vertical-align: middle;\n",
       "    }\n",
       "\n",
       "    .dataframe tbody tr th {\n",
       "        vertical-align: top;\n",
       "    }\n",
       "\n",
       "    .dataframe thead th {\n",
       "        text-align: right;\n",
       "    }\n",
       "</style>\n",
       "<table border=\"1\" class=\"dataframe\">\n",
       "  <thead>\n",
       "    <tr style=\"text-align: right;\">\n",
       "      <th></th>\n",
       "      <th>product_id</th>\n",
       "      <th>property_name</th>\n",
       "      <th>property_value</th>\n",
       "    </tr>\n",
       "  </thead>\n",
       "  <tbody>\n",
       "    <tr>\n",
       "      <th>6302835</th>\n",
       "      <td>13341365</td>\n",
       "      <td>carbohydrate</td>\n",
       "      <td>10,5 г</td>\n",
       "    </tr>\n",
       "    <tr>\n",
       "      <th>2777920</th>\n",
       "      <td>7468304</td>\n",
       "      <td>Содержание калия</td>\n",
       "      <td>500 мг/л</td>\n",
       "    </tr>\n",
       "    <tr>\n",
       "      <th>2481588</th>\n",
       "      <td>7384341</td>\n",
       "      <td>Состав набора</td>\n",
       "      <td>Помидоры, Огурцы</td>\n",
       "    </tr>\n",
       "    <tr>\n",
       "      <th>2669308</th>\n",
       "      <td>7455525</td>\n",
       "      <td>Состав</td>\n",
       "      <td>Филе куриное, вода питьевая, соль пищевая, чес...</td>\n",
       "    </tr>\n",
       "    <tr>\n",
       "      <th>4194897</th>\n",
       "      <td>8138136</td>\n",
       "      <td>Вес упаковки, кг</td>\n",
       "      <td>0.4</td>\n",
       "    </tr>\n",
       "  </tbody>\n",
       "</table>\n",
       "</div>"
      ],
      "text/plain": [
       "         product_id     property_name  \\\n",
       "6302835    13341365      carbohydrate   \n",
       "2777920     7468304  Содержание калия   \n",
       "2481588     7384341     Состав набора   \n",
       "2669308     7455525            Состав   \n",
       "4194897     8138136  Вес упаковки, кг   \n",
       "\n",
       "                                            property_value  \n",
       "6302835                                             10,5 г  \n",
       "2777920                                           500 мг/л  \n",
       "2481588                                   Помидоры, Огурцы  \n",
       "2669308  Филе куриное, вода питьевая, соль пищевая, чес...  \n",
       "4194897                                                0.4  "
      ]
     },
     "execution_count": 43,
     "metadata": {},
     "output_type": "execute_result"
    }
   ],
   "source": [
    "product_properties = pd.read_csv(r'C:/Users/zvere/Sber/test-recsys/kaggle_tab_1345/tab_5_product_properties.csv')\n",
    "product_properties.sample(5)\n",
    "                                 "
   ]
  },
  {
   "cell_type": "code",
   "execution_count": null,
   "metadata": {},
   "outputs": [],
   "source": []
  },
  {
   "cell_type": "code",
   "execution_count": null,
   "metadata": {},
   "outputs": [],
   "source": []
  },
  {
   "cell_type": "code",
   "execution_count": null,
   "metadata": {},
   "outputs": [],
   "source": []
  },
  {
   "cell_type": "markdown",
   "metadata": {},
   "source": [
    "What is important to analyze:\n",
    "1. add new feature \"prefer_discounts\", make it bool\n",
    "2. new feature \"repeated purchases\" - product_id what is repeatedly bought or NaN in case if customer doesn't have any\n",
    "3. add feature \"Family\" according to the number of bought products, make it bool\n",
    "4. add feature \"wholesaler\" if person make huge purchase seldom\n"
   ]
  }
 ],
 "metadata": {
  "kernelspec": {
   "display_name": "Python 3",
   "language": "python",
   "name": "python3"
  },
  "language_info": {
   "codemirror_mode": {
    "name": "ipython",
    "version": 3
   },
   "file_extension": ".py",
   "mimetype": "text/x-python",
   "name": "python",
   "nbconvert_exporter": "python",
   "pygments_lexer": "ipython3",
   "version": "3.6.9"
  }
 },
 "nbformat": 4,
 "nbformat_minor": 4
}
