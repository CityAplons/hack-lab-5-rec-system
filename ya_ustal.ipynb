{
 "cells": [
  {
   "cell_type": "code",
   "execution_count": 1,
   "metadata": {},
   "outputs": [],
   "source": [
    "import numpy as np\n",
    "import pandas as pd\n",
    "import random"
   ]
  },
  {
   "cell_type": "code",
   "execution_count": 2,
   "metadata": {},
   "outputs": [],
   "source": [
    "test = pd.read_csv(\"./unique_products.csv\")\n",
    "test = test.sort_values(by=['order_id'], ascending=False)\n",
    "test = test.head(round(len(test)*0.2))"
   ]
  },
  {
   "cell_type": "code",
   "execution_count": 3,
   "metadata": {},
   "outputs": [
    {
     "data": {
      "text/html": [
       "<div>\n",
       "<style scoped>\n",
       "    .dataframe tbody tr th:only-of-type {\n",
       "        vertical-align: middle;\n",
       "    }\n",
       "\n",
       "    .dataframe tbody tr th {\n",
       "        vertical-align: top;\n",
       "    }\n",
       "\n",
       "    .dataframe thead th {\n",
       "        text-align: right;\n",
       "    }\n",
       "</style>\n",
       "<table border=\"1\" class=\"dataframe\">\n",
       "  <thead>\n",
       "    <tr style=\"text-align: right;\">\n",
       "      <th></th>\n",
       "      <th>user_id</th>\n",
       "      <th>orders</th>\n",
       "      <th>retailer</th>\n",
       "      <th>city_name</th>\n",
       "      <th>total</th>\n",
       "      <th>prefer_discounts</th>\n",
       "      <th>master_category_id</th>\n",
       "      <th>parent_category_id</th>\n",
       "    </tr>\n",
       "  </thead>\n",
       "  <tbody>\n",
       "    <tr>\n",
       "      <th>0</th>\n",
       "      <td>83</td>\n",
       "      <td>1</td>\n",
       "      <td>METRO</td>\n",
       "      <td>Московская Область</td>\n",
       "      <td>170.171765</td>\n",
       "      <td>False</td>\n",
       "      <td>[432, 432, 432, 432, 434, 435, 328, 343, 343, ...</td>\n",
       "      <td>[429, 429, 429, 429, 429, 429, 321, 290, 290, ...</td>\n",
       "    </tr>\n",
       "    <tr>\n",
       "      <th>1</th>\n",
       "      <td>142</td>\n",
       "      <td>1</td>\n",
       "      <td>METRO</td>\n",
       "      <td>Московская Область</td>\n",
       "      <td>3344.000000</td>\n",
       "      <td>False</td>\n",
       "      <td>[581]</td>\n",
       "      <td>[9]</td>\n",
       "    </tr>\n",
       "    <tr>\n",
       "      <th>2</th>\n",
       "      <td>187</td>\n",
       "      <td>1</td>\n",
       "      <td>ВкусВилл</td>\n",
       "      <td>Москва</td>\n",
       "      <td>277.110001</td>\n",
       "      <td>False</td>\n",
       "      <td>[85, 91]</td>\n",
       "      <td>[84, 90]</td>\n",
       "    </tr>\n",
       "    <tr>\n",
       "      <th>3</th>\n",
       "      <td>224</td>\n",
       "      <td>1</td>\n",
       "      <td>Ашан</td>\n",
       "      <td>Москва</td>\n",
       "      <td>636.272493</td>\n",
       "      <td>False</td>\n",
       "      <td>[61, 61, 61, 598, 600, 600, 630, 40, 91, 91, 9...</td>\n",
       "      <td>[56, 56, 56, 51, 56, 56, 74, 35, 90, 90, 90, 90]</td>\n",
       "    </tr>\n",
       "    <tr>\n",
       "      <th>4</th>\n",
       "      <td>260</td>\n",
       "      <td>2</td>\n",
       "      <td>METRO</td>\n",
       "      <td>Москва</td>\n",
       "      <td>220.464167</td>\n",
       "      <td>False</td>\n",
       "      <td>[76, 76, 76, 76, 630, 630, 630, 630, 80, 110, ...</td>\n",
       "      <td>[74, 74, 74, 74, 74, 74, 74, 74, 74, 99, 99, 9...</td>\n",
       "    </tr>\n",
       "  </tbody>\n",
       "</table>\n",
       "</div>"
      ],
      "text/plain": [
       "   user_id  orders  retailer           city_name        total  \\\n",
       "0       83       1     METRO  Московская Область   170.171765   \n",
       "1      142       1     METRO  Московская Область  3344.000000   \n",
       "2      187       1  ВкусВилл              Москва   277.110001   \n",
       "3      224       1      Ашан              Москва   636.272493   \n",
       "4      260       2     METRO              Москва   220.464167   \n",
       "\n",
       "   prefer_discounts                                 master_category_id  \\\n",
       "0             False  [432, 432, 432, 432, 434, 435, 328, 343, 343, ...   \n",
       "1             False                                              [581]   \n",
       "2             False                                           [85, 91]   \n",
       "3             False  [61, 61, 61, 598, 600, 600, 630, 40, 91, 91, 9...   \n",
       "4             False  [76, 76, 76, 76, 630, 630, 630, 630, 80, 110, ...   \n",
       "\n",
       "                                  parent_category_id  \n",
       "0  [429, 429, 429, 429, 429, 429, 321, 290, 290, ...  \n",
       "1                                                [9]  \n",
       "2                                           [84, 90]  \n",
       "3   [56, 56, 56, 51, 56, 56, 74, 35, 90, 90, 90, 90]  \n",
       "4  [74, 74, 74, 74, 74, 74, 74, 74, 74, 99, 99, 9...  "
      ]
     },
     "execution_count": 3,
     "metadata": {},
     "output_type": "execute_result"
    }
   ],
   "source": [
    "import ast\n",
    "users = pd.read_csv(\"./user_features_full.csv\")\n",
    "users.master_category_id = users.master_category_id.apply(ast.literal_eval)\n",
    "users.head()"
   ]
  },
  {
   "cell_type": "code",
   "execution_count": 4,
   "metadata": {},
   "outputs": [],
   "source": [
    "sbm = pd.read_csv(\"./kaggle/sample_submission.csv\")"
   ]
  },
  {
   "cell_type": "code",
   "execution_count": 5,
   "metadata": {},
   "outputs": [],
   "source": [
    "from IPython.display import clear_output"
   ]
  },
  {
   "cell_type": "code",
   "execution_count": 31,
   "metadata": {},
   "outputs": [
    {
     "name": "stdout",
     "output_type": "stream",
     "text": [
      "99.99252811297494 %\n"
     ]
    }
   ],
   "source": [
    "df = pd.DataFrame(columns=['Id',  \n",
    "                           'Predicted'])\n",
    "i = 0\n",
    "for user in sbm.Id:\n",
    "    if (i%10 == 0):\n",
    "        clear_output(wait=True)\n",
    "        print(i/len(sbm)*100,\"%\")\n",
    "    k_p = test.sample(n=5, replace=True).product_id\n",
    "    while len(k_p) < 50:\n",
    "        l = users[users.user_id == user].master_category_id\n",
    "        if len(l.index)>0:\n",
    "            category = np.random.choice(l.values[0]).item()\n",
    "            ids = test[test.master_category_id == category]\n",
    "            if len(ids.index) >= 5:\n",
    "                k_p = k_p.append(ids.sample(n=5, random_state=7).product_id)\n",
    "            else:\n",
    "                k_p = k_p.append(test.sample(n=5, random_state=9).product_id)\n",
    "        else:\n",
    "            k_p = k_p.append(test.sample(n=5, random_state=3).product_id)\n",
    "    st = np.array2string(k_p.values, separator=' ')\n",
    "    df = df.append({'Id': user, 'Predicted':st[1:-1]}, ignore_index=True)\n",
    "    i+=1"
   ]
  },
  {
   "cell_type": "code",
   "execution_count": 27,
   "metadata": {},
   "outputs": [],
   "source": [
    "df1 = df"
   ]
  },
  {
   "cell_type": "code",
   "execution_count": 28,
   "metadata": {},
   "outputs": [
    {
     "data": {
      "text/plain": [
       "176"
      ]
     },
     "execution_count": 28,
     "metadata": {},
     "output_type": "execute_result"
    }
   ],
   "source": [
    "len(df1)"
   ]
  },
  {
   "cell_type": "code",
   "execution_count": 32,
   "metadata": {},
   "outputs": [
    {
     "data": {
      "text/html": [
       "<div>\n",
       "<style scoped>\n",
       "    .dataframe tbody tr th:only-of-type {\n",
       "        vertical-align: middle;\n",
       "    }\n",
       "\n",
       "    .dataframe tbody tr th {\n",
       "        vertical-align: top;\n",
       "    }\n",
       "\n",
       "    .dataframe thead th {\n",
       "        text-align: right;\n",
       "    }\n",
       "</style>\n",
       "<table border=\"1\" class=\"dataframe\">\n",
       "  <thead>\n",
       "    <tr style=\"text-align: right;\">\n",
       "      <th></th>\n",
       "      <th>Id</th>\n",
       "      <th>Predicted</th>\n",
       "    </tr>\n",
       "  </thead>\n",
       "  <tbody>\n",
       "    <tr>\n",
       "      <th>0</th>\n",
       "      <td>51</td>\n",
       "      <td>93600 5062990 7064842   13120   78621   2050...</td>\n",
       "    </tr>\n",
       "    <tr>\n",
       "      <th>1</th>\n",
       "      <td>65</td>\n",
       "      <td>69488 7034562 7004553 6818328 3821457   2050...</td>\n",
       "    </tr>\n",
       "    <tr>\n",
       "      <th>2</th>\n",
       "      <td>766</td>\n",
       "      <td>3859910  103422 5073752   45316   67180 734270...</td>\n",
       "    </tr>\n",
       "    <tr>\n",
       "      <th>3</th>\n",
       "      <td>1132</td>\n",
       "      <td>3593082   52536 6784572 4275455   54378   5130...</td>\n",
       "    </tr>\n",
       "    <tr>\n",
       "      <th>4</th>\n",
       "      <td>1578</td>\n",
       "      <td>5052   10735 6691117   14478    9824 349757...</td>\n",
       "    </tr>\n",
       "  </tbody>\n",
       "</table>\n",
       "</div>"
      ],
      "text/plain": [
       "     Id                                          Predicted\n",
       "0    51    93600 5062990 7064842   13120   78621   2050...\n",
       "1    65    69488 7034562 7004553 6818328 3821457   2050...\n",
       "2   766  3859910  103422 5073752   45316   67180 734270...\n",
       "3  1132  3593082   52536 6784572 4275455   54378   5130...\n",
       "4  1578     5052   10735 6691117   14478    9824 349757..."
      ]
     },
     "execution_count": 32,
     "metadata": {},
     "output_type": "execute_result"
    }
   ],
   "source": [
    "df.head()"
   ]
  },
  {
   "cell_type": "code",
   "execution_count": 35,
   "metadata": {},
   "outputs": [],
   "source": [
    "df['Predicted'] = df['Predicted'].str[1:-1]\n",
    "df['Predicted'] = df['Predicted'].str.replace('\\n', '')\n",
    "df['Predicted'] = df['Predicted'].str.replace(' +', ' ')"
   ]
  },
  {
   "cell_type": "code",
   "execution_count": 36,
   "metadata": {},
   "outputs": [],
   "source": [
    "df.to_csv('submission.csv',index=False)"
   ]
  },
  {
   "cell_type": "code",
   "execution_count": 109,
   "metadata": {},
   "outputs": [
    {
     "data": {
      "text/html": [
       "<div>\n",
       "<style scoped>\n",
       "    .dataframe tbody tr th:only-of-type {\n",
       "        vertical-align: middle;\n",
       "    }\n",
       "\n",
       "    .dataframe tbody tr th {\n",
       "        vertical-align: top;\n",
       "    }\n",
       "\n",
       "    .dataframe thead th {\n",
       "        text-align: right;\n",
       "    }\n",
       "</style>\n",
       "<table border=\"1\" class=\"dataframe\">\n",
       "  <thead>\n",
       "    <tr style=\"text-align: right;\">\n",
       "      <th></th>\n",
       "      <th>Id</th>\n",
       "      <th>Predicted</th>\n",
       "    </tr>\n",
       "  </thead>\n",
       "  <tbody>\n",
       "    <tr>\n",
       "      <th>0</th>\n",
       "      <td>1279222</td>\n",
       "      <td>504602270164055073465  159882834964  521985044...</td>\n",
       "    </tr>\n",
       "    <tr>\n",
       "      <th>1</th>\n",
       "      <td>1279245</td>\n",
       "      <td>504602270164055073465  159882834964  193665046...</td>\n",
       "    </tr>\n",
       "    <tr>\n",
       "      <th>2</th>\n",
       "      <td>1279261</td>\n",
       "      <td>504602270164055073465  15988283496450457285063...</td>\n",
       "    </tr>\n",
       "    <tr>\n",
       "      <th>3</th>\n",
       "      <td>1279295</td>\n",
       "      <td>504602270164055073465  15988283496442753157466...</td>\n",
       "    </tr>\n",
       "    <tr>\n",
       "      <th>4</th>\n",
       "      <td>1279380</td>\n",
       "      <td>504602270164055073465  1598828349645481229  58...</td>\n",
       "    </tr>\n",
       "    <tr>\n",
       "      <th>...</th>\n",
       "      <td>...</td>\n",
       "      <td>...</td>\n",
       "    </tr>\n",
       "    <tr>\n",
       "      <th>17683</th>\n",
       "      <td>1278913</td>\n",
       "      <td>504602270164055073465  159882834964  913363564...</td>\n",
       "    </tr>\n",
       "    <tr>\n",
       "      <th>17684</th>\n",
       "      <td>1279028</td>\n",
       "      <td>504602270164055073465  159882834964  79212  60...</td>\n",
       "    </tr>\n",
       "    <tr>\n",
       "      <th>17685</th>\n",
       "      <td>1279070</td>\n",
       "      <td>504602270164055073465  159882834964  895474275...</td>\n",
       "    </tr>\n",
       "    <tr>\n",
       "      <th>17686</th>\n",
       "      <td>1279086</td>\n",
       "      <td>504602270164055073465  15988283496434975747324...</td>\n",
       "    </tr>\n",
       "    <tr>\n",
       "      <th>17687</th>\n",
       "      <td>1279153</td>\n",
       "      <td>504602270164055073465  159882834964  454487107...</td>\n",
       "    </tr>\n",
       "  </tbody>\n",
       "</table>\n",
       "<p>18721 rows × 2 columns</p>\n",
       "</div>"
      ],
      "text/plain": [
       "            Id                                          Predicted\n",
       "0      1279222  504602270164055073465  159882834964  521985044...\n",
       "1      1279245  504602270164055073465  159882834964  193665046...\n",
       "2      1279261  504602270164055073465  15988283496450457285063...\n",
       "3      1279295  504602270164055073465  15988283496442753157466...\n",
       "4      1279380  504602270164055073465  1598828349645481229  58...\n",
       "...        ...                                                ...\n",
       "17683  1278913  504602270164055073465  159882834964  913363564...\n",
       "17684  1279028  504602270164055073465  159882834964  79212  60...\n",
       "17685  1279070  504602270164055073465  159882834964  895474275...\n",
       "17686  1279086  504602270164055073465  15988283496434975747324...\n",
       "17687  1279153  504602270164055073465  159882834964  454487107...\n",
       "\n",
       "[18721 rows x 2 columns]"
      ]
     },
     "execution_count": 109,
     "metadata": {},
     "output_type": "execute_result"
    }
   ],
   "source": [
    "df2"
   ]
  },
  {
   "cell_type": "code",
   "execution_count": 21,
   "metadata": {},
   "outputs": [
    {
     "name": "stdout",
     "output_type": "stream",
     "text": [
      "['5046022 7016405 5073465 15988 2834964 52198 5044722 2834887 64800 30306 52198 5044722 2834887 64800 30306 52198 5044722 2834887 64800 30306 52198 5044722 2834887 64800 30306 52198 5044722 2834887 64800 30306 52198 5044722 2834887 64800 30306 52198 5044722 2834887 64800 30306 52198 5044722 2834887 64800 30306 52198 5044722 2834887 64800 30306']\n"
     ]
    }
   ],
   "source": [
    "print(df1[df1.Id == 1279222].Predicted.values)"
   ]
  },
  {
   "cell_type": "code",
   "execution_count": null,
   "metadata": {},
   "outputs": [],
   "source": []
  }
 ],
 "metadata": {
  "kernelspec": {
   "display_name": "Python 3",
   "language": "python",
   "name": "python3"
  },
  "language_info": {
   "codemirror_mode": {
    "name": "ipython",
    "version": 3
   },
   "file_extension": ".py",
   "mimetype": "text/x-python",
   "name": "python",
   "nbconvert_exporter": "python",
   "pygments_lexer": "ipython3",
   "version": "3.6.9"
  }
 },
 "nbformat": 4,
 "nbformat_minor": 4
}
